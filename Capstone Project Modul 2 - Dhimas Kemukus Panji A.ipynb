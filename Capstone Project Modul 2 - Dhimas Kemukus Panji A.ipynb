{
 "cells": [
  {
   "cell_type": "markdown",
   "metadata": {},
   "source": [
    "# Latar Belakang"
   ]
  },
  {
   "cell_type": "markdown",
   "metadata": {},
   "source": [
    "Dataset berisi informasi rinci dari setengah juta data yang didapat dari beberapa e-commerce di Pakistan dari Maret 2016 hingga Agustus 2018. Tujuan sebelumnya dataset ini dikumpulkan bertujuan sebagai bahan pembelajaran dan latihan."
   ]
  },
  {
   "cell_type": "markdown",
   "metadata": {},
   "source": [
    "# Tujuan Analisis\n",
    "\n",
    "Tujuan dari exploratory data analysis ini adalah memahami bagaimana karakteristik, performa, dan gambaran dari e-commerce di Pakistan yang nantinya mampu memberikan masukan dan rekomendasi tindakan yang harus diambil sebagai strategi perusahaan e-commerce di kemudian hari."
   ]
  },
  {
   "cell_type": "markdown",
   "metadata": {},
   "source": [
    "# Pertanyaan Masalah\n",
    "1. Produk kategori apa yang paling laku dijual oleh e-commerce dari  Maret 2016 sampai Agustus 2018\n",
    "2. Produk kategori apa yang memberikan pendapatan terbesar?\n",
    "3. Bagaimana trend pendapatan e-commerce dilihat dari tahun dan bulan?\n",
    "4. Bagaimana status order e-commerce dari Maret 2016 sampai Agustus 2018?\n",
    "5. Apakah ada kecenderungan konsumen untuk menggunakan sales commission code?"
   ]
  },
  {
   "cell_type": "markdown",
   "metadata": {},
   "source": [
    "# Data Set\n",
    "\n",
    "Data Set yang digunakan untuk melakukan data analisis pada capstone project kali ini diambil dari:<br>\n",
    "https://www.kaggle.com/datasets/zusmani/pakistans-largest-ecommerce-dataset"
   ]
  },
  {
   "cell_type": "markdown",
   "metadata": {},
   "source": [
    "# Library"
   ]
  },
  {
   "cell_type": "markdown",
   "metadata": {},
   "source": [
    "Berikut adalah library yang digunakan untuk melakukan penelitian ini"
   ]
  },
  {
   "cell_type": "code",
   "execution_count": 48,
   "metadata": {},
   "outputs": [],
   "source": [
    "import pandas as pd\n",
    "import numpy as np\n",
    "import matplotlib.pyplot as plt\n",
    "import seaborn as sns\n",
    "import plotly.express as px\n",
    "from matplotlib import style\n",
    "pd.set_option('display.float_format', lambda x: '%.3f' % x)\n",
    "\n",
    "import warnings\n",
    "warnings.filterwarnings(\"ignore\")"
   ]
  },
  {
   "cell_type": "markdown",
   "metadata": {},
   "source": [
    "Variabel yang tersedia dalam dataset antara lain: \n",
    "- Item_ID = id untuk setiap produk yang dijual\n",
    "- Status = status pesanan pelanggan\n",
    "- Date of Order/ created_at = tanggal pesanan\n",
    "- SKU = kode unik yang diberikan kepada setiap item barang\n",
    "- Price = harga\n",
    "- qty_ordered = kuantitas\n",
    "- grand_total = total harga pesanan\n",
    "- Increment_id= kode struk\n",
    "- Category_name_1 = kategori produk\n",
    "- sales_commission_code = kode komisi penjualan\n",
    "- Discount_amount = potongan harga\n",
    "- Payment Method = metode pembayaran yang digunakan\n",
    "- Working_date = Jam kerja\n",
    "- BI_Status = informasi terkait proses pemesanan barang\n",
    "- MV : Harga satuan produk\n",
    "- Year = tahun\n",
    "- Month = Bulan\n",
    "- Customer_since = informasi tanggal,bulan dan tahun pelanggan bergabung\n",
    "- M-Y = Tahun dan Bulan\n",
    "- Customer ID = id pelanggan\n",
    "- FY = Tahun Fiskal\n",
    "- Unnamed : 21 = Empty Column\n",
    "- Unnamed : 22 = Empty Column\n",
    "- Unnamed : 23 = Empty Column\n",
    "- Unnamed : 24 = Empty Column\n",
    "- Unnamed : 25 = Empty Column"
   ]
  },
  {
   "cell_type": "markdown",
   "metadata": {},
   "source": [
    "Berikut ini merupakan 5 data teratas dari dataset"
   ]
  },
  {
   "cell_type": "code",
   "execution_count": 49,
   "metadata": {},
   "outputs": [
    {
     "data": {
      "text/html": [
       "<div>\n",
       "<style scoped>\n",
       "    .dataframe tbody tr th:only-of-type {\n",
       "        vertical-align: middle;\n",
       "    }\n",
       "\n",
       "    .dataframe tbody tr th {\n",
       "        vertical-align: top;\n",
       "    }\n",
       "\n",
       "    .dataframe thead th {\n",
       "        text-align: right;\n",
       "    }\n",
       "</style>\n",
       "<table border=\"1\" class=\"dataframe\">\n",
       "  <thead>\n",
       "    <tr style=\"text-align: right;\">\n",
       "      <th></th>\n",
       "      <th>item_id</th>\n",
       "      <th>status</th>\n",
       "      <th>created_at</th>\n",
       "      <th>sku</th>\n",
       "      <th>price</th>\n",
       "      <th>qty_ordered</th>\n",
       "      <th>grand_total</th>\n",
       "      <th>increment_id</th>\n",
       "      <th>category_name_1</th>\n",
       "      <th>sales_commission_code</th>\n",
       "      <th>...</th>\n",
       "      <th>Month</th>\n",
       "      <th>Customer Since</th>\n",
       "      <th>M-Y</th>\n",
       "      <th>FY</th>\n",
       "      <th>Customer ID</th>\n",
       "      <th>Unnamed: 21</th>\n",
       "      <th>Unnamed: 22</th>\n",
       "      <th>Unnamed: 23</th>\n",
       "      <th>Unnamed: 24</th>\n",
       "      <th>Unnamed: 25</th>\n",
       "    </tr>\n",
       "  </thead>\n",
       "  <tbody>\n",
       "    <tr>\n",
       "      <th>0</th>\n",
       "      <td>211131.000</td>\n",
       "      <td>complete</td>\n",
       "      <td>7/1/2016</td>\n",
       "      <td>kreations_YI 06-L</td>\n",
       "      <td>1950.000</td>\n",
       "      <td>1.000</td>\n",
       "      <td>1950.000</td>\n",
       "      <td>100147443</td>\n",
       "      <td>Women's Fashion</td>\n",
       "      <td>\\N</td>\n",
       "      <td>...</td>\n",
       "      <td>7.000</td>\n",
       "      <td>2016-7</td>\n",
       "      <td>7-2016</td>\n",
       "      <td>FY17</td>\n",
       "      <td>1.000</td>\n",
       "      <td>NaN</td>\n",
       "      <td>NaN</td>\n",
       "      <td>NaN</td>\n",
       "      <td>NaN</td>\n",
       "      <td>NaN</td>\n",
       "    </tr>\n",
       "    <tr>\n",
       "      <th>1</th>\n",
       "      <td>211133.000</td>\n",
       "      <td>canceled</td>\n",
       "      <td>7/1/2016</td>\n",
       "      <td>kcc_Buy 2 Frey Air Freshener &amp; Get 1 Kasual Body Spray Free</td>\n",
       "      <td>240.000</td>\n",
       "      <td>1.000</td>\n",
       "      <td>240.000</td>\n",
       "      <td>100147444</td>\n",
       "      <td>Beauty &amp; Grooming</td>\n",
       "      <td>\\N</td>\n",
       "      <td>...</td>\n",
       "      <td>7.000</td>\n",
       "      <td>2016-7</td>\n",
       "      <td>7-2016</td>\n",
       "      <td>FY17</td>\n",
       "      <td>2.000</td>\n",
       "      <td>NaN</td>\n",
       "      <td>NaN</td>\n",
       "      <td>NaN</td>\n",
       "      <td>NaN</td>\n",
       "      <td>NaN</td>\n",
       "    </tr>\n",
       "    <tr>\n",
       "      <th>2</th>\n",
       "      <td>211134.000</td>\n",
       "      <td>canceled</td>\n",
       "      <td>7/1/2016</td>\n",
       "      <td>Ego_UP0017-999-MR0</td>\n",
       "      <td>2450.000</td>\n",
       "      <td>1.000</td>\n",
       "      <td>2450.000</td>\n",
       "      <td>100147445</td>\n",
       "      <td>Women's Fashion</td>\n",
       "      <td>\\N</td>\n",
       "      <td>...</td>\n",
       "      <td>7.000</td>\n",
       "      <td>2016-7</td>\n",
       "      <td>7-2016</td>\n",
       "      <td>FY17</td>\n",
       "      <td>3.000</td>\n",
       "      <td>NaN</td>\n",
       "      <td>NaN</td>\n",
       "      <td>NaN</td>\n",
       "      <td>NaN</td>\n",
       "      <td>NaN</td>\n",
       "    </tr>\n",
       "    <tr>\n",
       "      <th>3</th>\n",
       "      <td>211135.000</td>\n",
       "      <td>complete</td>\n",
       "      <td>7/1/2016</td>\n",
       "      <td>kcc_krone deal</td>\n",
       "      <td>360.000</td>\n",
       "      <td>1.000</td>\n",
       "      <td>60.000</td>\n",
       "      <td>100147446</td>\n",
       "      <td>Beauty &amp; Grooming</td>\n",
       "      <td>R-FSD-52352</td>\n",
       "      <td>...</td>\n",
       "      <td>7.000</td>\n",
       "      <td>2016-7</td>\n",
       "      <td>7-2016</td>\n",
       "      <td>FY17</td>\n",
       "      <td>4.000</td>\n",
       "      <td>NaN</td>\n",
       "      <td>NaN</td>\n",
       "      <td>NaN</td>\n",
       "      <td>NaN</td>\n",
       "      <td>NaN</td>\n",
       "    </tr>\n",
       "  </tbody>\n",
       "</table>\n",
       "<p>4 rows × 26 columns</p>\n",
       "</div>"
      ],
      "text/plain": [
       "     item_id    status created_at  \\\n",
       "0 211131.000  complete  7/1/2016    \n",
       "1 211133.000  canceled  7/1/2016    \n",
       "2 211134.000  canceled  7/1/2016    \n",
       "3 211135.000  complete  7/1/2016    \n",
       "\n",
       "                                                           sku    price  \\\n",
       "0  kreations_YI 06-L                                           1950.000   \n",
       "1  kcc_Buy 2 Frey Air Freshener & Get 1 Kasual Body Spray Free 240.000    \n",
       "2  Ego_UP0017-999-MR0                                          2450.000   \n",
       "3  kcc_krone deal                                              360.000    \n",
       "\n",
       "   qty_ordered  grand_total increment_id    category_name_1  \\\n",
       "0 1.000        1950.000      100147443    Women's Fashion     \n",
       "1 1.000        240.000       100147444    Beauty & Grooming   \n",
       "2 1.000        2450.000      100147445    Women's Fashion     \n",
       "3 1.000        60.000        100147446    Beauty & Grooming   \n",
       "\n",
       "  sales_commission_code  ...  Month Customer Since     M-Y    FY Customer ID  \\\n",
       "0  \\N                    ... 7.000   2016-7         7-2016  FY17 1.000         \n",
       "1  \\N                    ... 7.000   2016-7         7-2016  FY17 2.000         \n",
       "2  \\N                    ... 7.000   2016-7         7-2016  FY17 3.000         \n",
       "3  R-FSD-52352           ... 7.000   2016-7         7-2016  FY17 4.000         \n",
       "\n",
       "   Unnamed: 21  Unnamed: 22 Unnamed: 23 Unnamed: 24 Unnamed: 25  \n",
       "0 NaN          NaN          NaN         NaN         NaN          \n",
       "1 NaN          NaN          NaN         NaN         NaN          \n",
       "2 NaN          NaN          NaN         NaN         NaN          \n",
       "3 NaN          NaN          NaN         NaN         NaN          \n",
       "\n",
       "[4 rows x 26 columns]"
      ]
     },
     "execution_count": 49,
     "metadata": {},
     "output_type": "execute_result"
    }
   ],
   "source": [
    "df = pd.read_csv(r'D:\\Belajar Data Science\\Capstone Project\\Pakistan Largest Ecommerce Dataset.csv')\n",
    "df.head(4)"
   ]
  },
  {
   "cell_type": "markdown",
   "metadata": {},
   "source": [
    "# Data Understanding and Cleanning"
   ]
  },
  {
   "cell_type": "markdown",
   "metadata": {},
   "source": [
    "Sebelum melakukan data analysis, hal pertama yang harus dilakukan adalah memahami dan mengenal dataset kita terlebih dahulu. Tahap ini kita akan tahu anomali apa saja yang ada dalam data yang kita miliki sehingga dapat dilakukan data cleanning."
   ]
  },
  {
   "cell_type": "markdown",
   "metadata": {},
   "source": [
    "Informasi Umum dari dataset berupa jumlah baris dan jenis data yang ada"
   ]
  },
  {
   "cell_type": "code",
   "execution_count": 50,
   "metadata": {},
   "outputs": [
    {
     "name": "stdout",
     "output_type": "stream",
     "text": [
      "Jumlah baris dan kolom di dataset df adalah (1048575, 26)\n",
      "<class 'pandas.core.frame.DataFrame'>\n",
      "RangeIndex: 1048575 entries, 0 to 1048574\n",
      "Data columns (total 26 columns):\n",
      " #   Column                 Non-Null Count   Dtype  \n",
      "---  ------                 --------------   -----  \n",
      " 0   item_id                584524 non-null  float64\n",
      " 1   status                 584509 non-null  object \n",
      " 2   created_at             584524 non-null  object \n",
      " 3   sku                    584504 non-null  object \n",
      " 4   price                  584524 non-null  float64\n",
      " 5   qty_ordered            584524 non-null  float64\n",
      " 6   grand_total            584524 non-null  float64\n",
      " 7   increment_id           584524 non-null  object \n",
      " 8   category_name_1        584360 non-null  object \n",
      " 9   sales_commission_code  447349 non-null  object \n",
      " 10  discount_amount        584524 non-null  float64\n",
      " 11  payment_method         584524 non-null  object \n",
      " 12  Working Date           584524 non-null  object \n",
      " 13  BI Status              584524 non-null  object \n",
      " 14   MV                    584524 non-null  object \n",
      " 15  Year                   584524 non-null  float64\n",
      " 16  Month                  584524 non-null  float64\n",
      " 17  Customer Since         584513 non-null  object \n",
      " 18  M-Y                    584524 non-null  object \n",
      " 19  FY                     584524 non-null  object \n",
      " 20  Customer ID            584513 non-null  float64\n",
      " 21  Unnamed: 21            0 non-null       float64\n",
      " 22  Unnamed: 22            0 non-null       float64\n",
      " 23  Unnamed: 23            0 non-null       float64\n",
      " 24  Unnamed: 24            0 non-null       float64\n",
      " 25  Unnamed: 25            0 non-null       float64\n",
      "dtypes: float64(13), object(13)\n",
      "memory usage: 208.0+ MB\n"
     ]
    }
   ],
   "source": [
    "print(f'Jumlah baris dan kolom di dataset df adalah {df.shape}')\n",
    "df.info()"
   ]
  },
  {
   "cell_type": "markdown",
   "metadata": {},
   "source": [
    "Hasil informasi yang didapat dikatakan bahwa terdapat 1.048.575 baris dan 26 kolom. Dari 26 kolom yang ada, terdapat 5 kolom yang tidak berisi yang akan dihapus dari data set. Selain itu ada (1.048.575-584524) 464.051 baris yang tidak ada isinya (NaN) sehingga akan dihapus untuk tahap awal."
   ]
  },
  {
   "cell_type": "code",
   "execution_count": 51,
   "metadata": {},
   "outputs": [],
   "source": [
    "# menghapus kolom yang tidak memiliki data\n",
    "df.drop(columns=['Unnamed: 21','Unnamed: 22','Unnamed: 23','Unnamed: 24','Unnamed: 25'], inplace=True)"
   ]
  },
  {
   "cell_type": "code",
   "execution_count": 52,
   "metadata": {},
   "outputs": [],
   "source": [
    "# menghapus baris yang seluruh nilainya NaN\n",
    "df = df.dropna(how = 'all')"
   ]
  },
  {
   "cell_type": "code",
   "execution_count": 53,
   "metadata": {},
   "outputs": [
    {
     "data": {
      "text/html": [
       "<div>\n",
       "<style scoped>\n",
       "    .dataframe tbody tr th:only-of-type {\n",
       "        vertical-align: middle;\n",
       "    }\n",
       "\n",
       "    .dataframe tbody tr th {\n",
       "        vertical-align: top;\n",
       "    }\n",
       "\n",
       "    .dataframe thead th {\n",
       "        text-align: right;\n",
       "    }\n",
       "</style>\n",
       "<table border=\"1\" class=\"dataframe\">\n",
       "  <thead>\n",
       "    <tr style=\"text-align: right;\">\n",
       "      <th></th>\n",
       "      <th>count</th>\n",
       "      <th>mean</th>\n",
       "      <th>std</th>\n",
       "      <th>min</th>\n",
       "      <th>25%</th>\n",
       "      <th>50%</th>\n",
       "      <th>75%</th>\n",
       "      <th>max</th>\n",
       "    </tr>\n",
       "  </thead>\n",
       "  <tbody>\n",
       "    <tr>\n",
       "      <th>item_id</th>\n",
       "      <td>584524.000</td>\n",
       "      <td>565667.074</td>\n",
       "      <td>200121.174</td>\n",
       "      <td>211131.000</td>\n",
       "      <td>395000.750</td>\n",
       "      <td>568424.500</td>\n",
       "      <td>739106.250</td>\n",
       "      <td>905208.000</td>\n",
       "    </tr>\n",
       "    <tr>\n",
       "      <th>price</th>\n",
       "      <td>584524.000</td>\n",
       "      <td>6348.748</td>\n",
       "      <td>14949.270</td>\n",
       "      <td>0.000</td>\n",
       "      <td>360.000</td>\n",
       "      <td>899.000</td>\n",
       "      <td>4070.000</td>\n",
       "      <td>1012625.900</td>\n",
       "    </tr>\n",
       "    <tr>\n",
       "      <th>qty_ordered</th>\n",
       "      <td>584524.000</td>\n",
       "      <td>1.296</td>\n",
       "      <td>3.996</td>\n",
       "      <td>1.000</td>\n",
       "      <td>1.000</td>\n",
       "      <td>1.000</td>\n",
       "      <td>1.000</td>\n",
       "      <td>1000.000</td>\n",
       "    </tr>\n",
       "    <tr>\n",
       "      <th>grand_total</th>\n",
       "      <td>584524.000</td>\n",
       "      <td>8530.619</td>\n",
       "      <td>61320.815</td>\n",
       "      <td>-1594.000</td>\n",
       "      <td>945.000</td>\n",
       "      <td>1960.400</td>\n",
       "      <td>6999.000</td>\n",
       "      <td>17888000.000</td>\n",
       "    </tr>\n",
       "    <tr>\n",
       "      <th>discount_amount</th>\n",
       "      <td>584524.000</td>\n",
       "      <td>499.493</td>\n",
       "      <td>1506.943</td>\n",
       "      <td>-599.500</td>\n",
       "      <td>0.000</td>\n",
       "      <td>0.000</td>\n",
       "      <td>160.500</td>\n",
       "      <td>90300.000</td>\n",
       "    </tr>\n",
       "    <tr>\n",
       "      <th>Year</th>\n",
       "      <td>584524.000</td>\n",
       "      <td>2017.044</td>\n",
       "      <td>0.707</td>\n",
       "      <td>2016.000</td>\n",
       "      <td>2017.000</td>\n",
       "      <td>2017.000</td>\n",
       "      <td>2018.000</td>\n",
       "      <td>2018.000</td>\n",
       "    </tr>\n",
       "    <tr>\n",
       "      <th>Month</th>\n",
       "      <td>584524.000</td>\n",
       "      <td>7.168</td>\n",
       "      <td>3.486</td>\n",
       "      <td>1.000</td>\n",
       "      <td>4.000</td>\n",
       "      <td>7.000</td>\n",
       "      <td>11.000</td>\n",
       "      <td>12.000</td>\n",
       "    </tr>\n",
       "    <tr>\n",
       "      <th>Customer ID</th>\n",
       "      <td>584513.000</td>\n",
       "      <td>45790.512</td>\n",
       "      <td>34414.962</td>\n",
       "      <td>1.000</td>\n",
       "      <td>13516.000</td>\n",
       "      <td>42856.000</td>\n",
       "      <td>73536.000</td>\n",
       "      <td>115326.000</td>\n",
       "    </tr>\n",
       "  </tbody>\n",
       "</table>\n",
       "</div>"
      ],
      "text/plain": [
       "                     count       mean        std        min        25%  \\\n",
       "item_id         584524.000 565667.074 200121.174 211131.000 395000.750   \n",
       "price           584524.000 6348.748   14949.270  0.000      360.000      \n",
       "qty_ordered     584524.000 1.296      3.996      1.000      1.000        \n",
       "grand_total     584524.000 8530.619   61320.815  -1594.000  945.000      \n",
       "discount_amount 584524.000 499.493    1506.943   -599.500   0.000        \n",
       "Year            584524.000 2017.044   0.707      2016.000   2017.000     \n",
       "Month           584524.000 7.168      3.486      1.000      4.000        \n",
       "Customer ID     584513.000 45790.512  34414.962  1.000      13516.000    \n",
       "\n",
       "                       50%        75%          max  \n",
       "item_id         568424.500 739106.250 905208.000    \n",
       "price           899.000    4070.000   1012625.900   \n",
       "qty_ordered     1.000      1.000      1000.000      \n",
       "grand_total     1960.400   6999.000   17888000.000  \n",
       "discount_amount 0.000      160.500    90300.000     \n",
       "Year            2017.000   2018.000   2018.000      \n",
       "Month           7.000      11.000     12.000        \n",
       "Customer ID     42856.000  73536.000  115326.000    "
      ]
     },
     "execution_count": 53,
     "metadata": {},
     "output_type": "execute_result"
    }
   ],
   "source": [
    "df.describe().T"
   ]
  },
  {
   "cell_type": "code",
   "execution_count": 54,
   "metadata": {},
   "outputs": [
    {
     "data": {
      "text/html": [
       "<div>\n",
       "<style scoped>\n",
       "    .dataframe tbody tr th:only-of-type {\n",
       "        vertical-align: middle;\n",
       "    }\n",
       "\n",
       "    .dataframe tbody tr th {\n",
       "        vertical-align: top;\n",
       "    }\n",
       "\n",
       "    .dataframe thead th {\n",
       "        text-align: right;\n",
       "    }\n",
       "</style>\n",
       "<table border=\"1\" class=\"dataframe\">\n",
       "  <thead>\n",
       "    <tr style=\"text-align: right;\">\n",
       "      <th></th>\n",
       "      <th>count</th>\n",
       "      <th>unique</th>\n",
       "      <th>top</th>\n",
       "      <th>freq</th>\n",
       "    </tr>\n",
       "  </thead>\n",
       "  <tbody>\n",
       "    <tr>\n",
       "      <th>status</th>\n",
       "      <td>584509</td>\n",
       "      <td>16</td>\n",
       "      <td>complete</td>\n",
       "      <td>233685</td>\n",
       "    </tr>\n",
       "    <tr>\n",
       "      <th>created_at</th>\n",
       "      <td>584524</td>\n",
       "      <td>789</td>\n",
       "      <td>11/25/2016</td>\n",
       "      <td>15169</td>\n",
       "    </tr>\n",
       "    <tr>\n",
       "      <th>sku</th>\n",
       "      <td>584504</td>\n",
       "      <td>84889</td>\n",
       "      <td>MATSAM59DB75ADB2F80</td>\n",
       "      <td>3775</td>\n",
       "    </tr>\n",
       "    <tr>\n",
       "      <th>increment_id</th>\n",
       "      <td>584524</td>\n",
       "      <td>408785</td>\n",
       "      <td>100266667</td>\n",
       "      <td>72</td>\n",
       "    </tr>\n",
       "    <tr>\n",
       "      <th>category_name_1</th>\n",
       "      <td>584360</td>\n",
       "      <td>16</td>\n",
       "      <td>Mobiles &amp; Tablets</td>\n",
       "      <td>115710</td>\n",
       "    </tr>\n",
       "    <tr>\n",
       "      <th>sales_commission_code</th>\n",
       "      <td>447349</td>\n",
       "      <td>7226</td>\n",
       "      <td>\\N</td>\n",
       "      <td>339001</td>\n",
       "    </tr>\n",
       "    <tr>\n",
       "      <th>payment_method</th>\n",
       "      <td>584524</td>\n",
       "      <td>18</td>\n",
       "      <td>cod</td>\n",
       "      <td>271960</td>\n",
       "    </tr>\n",
       "    <tr>\n",
       "      <th>Working Date</th>\n",
       "      <td>584524</td>\n",
       "      <td>789</td>\n",
       "      <td>11/25/2016</td>\n",
       "      <td>15169</td>\n",
       "    </tr>\n",
       "    <tr>\n",
       "      <th>BI Status</th>\n",
       "      <td>584524</td>\n",
       "      <td>4</td>\n",
       "      <td>Net</td>\n",
       "      <td>234178</td>\n",
       "    </tr>\n",
       "    <tr>\n",
       "      <th>MV</th>\n",
       "      <td>584524</td>\n",
       "      <td>9720</td>\n",
       "      <td>999</td>\n",
       "      <td>9516</td>\n",
       "    </tr>\n",
       "    <tr>\n",
       "      <th>Customer Since</th>\n",
       "      <td>584513</td>\n",
       "      <td>26</td>\n",
       "      <td>2016-11</td>\n",
       "      <td>82714</td>\n",
       "    </tr>\n",
       "    <tr>\n",
       "      <th>M-Y</th>\n",
       "      <td>584524</td>\n",
       "      <td>26</td>\n",
       "      <td>11-2017</td>\n",
       "      <td>83928</td>\n",
       "    </tr>\n",
       "    <tr>\n",
       "      <th>FY</th>\n",
       "      <td>584524</td>\n",
       "      <td>3</td>\n",
       "      <td>FY18</td>\n",
       "      <td>306883</td>\n",
       "    </tr>\n",
       "  </tbody>\n",
       "</table>\n",
       "</div>"
      ],
      "text/plain": [
       "                        count  unique                  top    freq\n",
       "status                 584509  16      complete             233685\n",
       "created_at             584524  789     11/25/2016           15169 \n",
       "sku                    584504  84889   MATSAM59DB75ADB2F80  3775  \n",
       "increment_id           584524  408785  100266667            72    \n",
       "category_name_1        584360  16      Mobiles & Tablets    115710\n",
       "sales_commission_code  447349  7226    \\N                   339001\n",
       "payment_method         584524  18      cod                  271960\n",
       "Working Date           584524  789     11/25/2016           15169 \n",
       "BI Status              584524  4       Net                  234178\n",
       " MV                    584524  9720     999                 9516  \n",
       "Customer Since         584513  26      2016-11              82714 \n",
       "M-Y                    584524  26      11-2017              83928 \n",
       "FY                     584524  3       FY18                 306883"
      ]
     },
     "execution_count": 54,
     "metadata": {},
     "output_type": "execute_result"
    }
   ],
   "source": [
    "df.describe(include='object').T"
   ]
  },
  {
   "cell_type": "markdown",
   "metadata": {},
   "source": [
    "Tabel diatas menunjukan deskripsi dari dataset yang diteliti. tabel pertama menunjukan deskripsi data yang bersifat numerik sedangkan tabel kedua menunjukan deskripsi data yang berisfat category. Untuk lebih isi lebih detail akan ditunjukan pada tabel berikutnya"
   ]
  },
  {
   "cell_type": "code",
   "execution_count": 55,
   "metadata": {},
   "outputs": [
    {
     "data": {
      "text/html": [
       "<div>\n",
       "<style scoped>\n",
       "    .dataframe tbody tr th:only-of-type {\n",
       "        vertical-align: middle;\n",
       "    }\n",
       "\n",
       "    .dataframe tbody tr th {\n",
       "        vertical-align: top;\n",
       "    }\n",
       "\n",
       "    .dataframe thead th {\n",
       "        text-align: right;\n",
       "    }\n",
       "</style>\n",
       "<table border=\"1\" class=\"dataframe\">\n",
       "  <thead>\n",
       "    <tr style=\"text-align: right;\">\n",
       "      <th></th>\n",
       "      <th>Column Name</th>\n",
       "      <th>Number of Unique</th>\n",
       "      <th>Unique Sample</th>\n",
       "    </tr>\n",
       "  </thead>\n",
       "  <tbody>\n",
       "    <tr>\n",
       "      <th>0</th>\n",
       "      <td>item_id</td>\n",
       "      <td>584524</td>\n",
       "      <td>[211131.0, 211133.0, 211134.0, 211135.0, 211136.0, 211137.0, 211138.0, 211139.0, 211140.0, 211141.0, 211142.0, 211143.0, 211144.0, 211145.0, 211146.0, 211147.0, 211149.0, 211150.0, 211151.0, 211152.0, 211153.0, 211154.0, 211155.0, 211156.0, 211157.0, 211158.0, 211160.0, 211162.0, 211163.0, 211164.0, 211166.0, 211168.0, 211169.0, 211170.0, 211171.0, 211172.0, 211173.0, 211174.0, 211175.0, 211176.0, 211177.0, 211179.0, 211180.0, 211182.0, 211184.0, 211185.0, 211186.0, 211187.0, 211188.0, 211189.0, 211190.0, 211191.0, 211192.0, 211193.0, 211194.0, 211196.0, 211197.0, 211198.0, 211199.0, 211200.0, 211202.0, 211201.0, 211203.0, 211204.0, 211205.0, 211206.0, 211207.0, 211208.0, 211209.0, 211211.0, 211212.0, 211213.0, 211214.0, 211215.0, 211217.0, 211218.0, 211219.0, 211220.0, 211221.0, 211222.0, 211223.0, 211225.0, 211224.0, 211226.0, 211227.0, 211228.0, 211229.0, 211230.0, 211231.0, 211232.0, 211233.0, 211234.0, 211235.0, 211236.0, 211237.0, 211238.0, 211239.0, 211240.0, 211241.0, 211242.0, ...]</td>\n",
       "    </tr>\n",
       "    <tr>\n",
       "      <th>1</th>\n",
       "      <td>status</td>\n",
       "      <td>16</td>\n",
       "      <td>[complete, canceled, order_refunded, received, refund, closed, fraud, holded, exchange, pending_paypal, paid, \\N, cod, pending, nan, processing, payment_review]</td>\n",
       "    </tr>\n",
       "    <tr>\n",
       "      <th>2</th>\n",
       "      <td>created_at</td>\n",
       "      <td>789</td>\n",
       "      <td>[7/1/2016, 7/2/2016, 7/3/2016, 7/4/2016, 7/5/2016, 7/6/2016, 7/7/2016, 7/8/2016, 7/9/2016, 7/10/2016, 7/11/2016, 7/12/2016, 7/13/2016, 7/14/2016, 7/15/2016, 7/16/2016, 7/17/2016, 7/18/2016, 7/19/2016, 7/20/2016, 7/21/2016, 7/22/2016, 7/23/2016, 7/24/2016, 7/25/2016, 7/26/2016, 7/27/2016, 7/28/2016, 7/29/2016, 7/30/2016, 7/31/2016, 8/1/2016, 8/2/2016, 8/3/2016, 8/4/2016, 8/5/2016, 8/6/2016, 8/7/2016, 8/8/2016, 8/9/2016, 8/10/2016, 8/11/2016, 8/12/2016, 8/13/2016, 8/14/2016, 8/15/2016, 8/16/2016, 8/17/2016, 8/18/2016, 8/19/2016, 8/20/2016, 8/21/2016, 8/22/2016, 8/23/2016, 8/24/2016, 8/25/2016, 8/26/2016, 8/27/2016, 8/28/2016, 8/29/2016, 8/30/2016, 8/31/2016, 9/1/2016, 9/2/2016, 9/3/2016, 9/4/2016, 9/5/2016, 9/6/2016, 9/7/2016, 9/8/2016, 9/9/2016, 9/10/2016, 9/11/2016, 9/12/2016, 9/13/2016, 9/14/2016, 9/15/2016, 9/16/2016, 9/17/2016, 9/18/2016, 9/19/2016, 9/20/2016, 9/21/2016, 9/22/2016, 9/23/2016, 9/24/2016, 9/25/2016, 9/26/2016, 9/27/2016, 9/28/2016, 9/29/2016, 9/30/2016, 10/1/2016, 10/2/2016, 10/3/2016, 10/4/2016, 10/5/2016, 10/6/2016, 10/7/2016, 10/8/2016, ...]</td>\n",
       "    </tr>\n",
       "    <tr>\n",
       "      <th>3</th>\n",
       "      <td>sku</td>\n",
       "      <td>84889</td>\n",
       "      <td>[kreations_YI 06-L, kcc_Buy 2 Frey Air Freshener &amp; Get 1 Kasual Body Spray Free, Ego_UP0017-999-MR0, kcc_krone deal, BK7010400AG, UK_Namkino All In One 200 Gms, UK_Namkino Mix Nimco 400 Gms, Apple iPhone 6S 64GB, GFC_Pedestal Myga Cross Base (Special Guard) 24\", BK1070200PL, BK1130200CF, kcc_Sultanat, kcc_glamour deal, Assetmen_MD-346-M, cr_DATES WITH CASHEW-400 GM, UK_Gift Box Mix Dry Fruit Sweets 500 Gms, itter_AB 1199, RL_B005, bed&amp;rest_S7, L&amp;L_LLHLE8224S, J&amp;J_JJR-4, J&amp;J_JJR-20, D Lend a Helping Hand, Mochika_M0001112-12, Mochika_M0001112-8, SKMT_Blood Test, SKMT_Medicine, sputnik_701/5-11, Ctees-Black Zip- Up Hoodie-XL, Samsung Galaxy J5, Veet_4, RS_Gulab jaman Tin, cr_PEANUT SALTY-200 GM, Oriflame_21557, JBS_TAT-128, Ajmery_BRR-590-M, HOS_GUCFW75, Lexon_LL116B-Blue, kcc_Fantasy Perfumed Talcum Powder-200gm, 2Zee_SC6, Q MOBILE Noir X20, rehaab_RJ160047, Farah_3-B, RS_Sohan Halwa Tin, UK_Soan Papdi Original 250 Gms, UK_Gift Box Soghaat 500 Gms, RS_Double Delight, Al Muhafiz Sohan Halwa Almond, UK_Gift Box Baklawa 500 Gms, sputnik_2146/6-8, kkc_Kingtox 450ml Classic Green All Insect Killer Spray, Al Muhafiz Sohan Halwa Walnut, RS_Honey Dry Fruit Halwa, itter_AB 1214, Eco Star_40U557, Orient_OR-6057 GX LGFD LV, HOS_JPGCW100, kkc_Jasmine King Air Freshener, asimjofaeanew_5A, ajmery_F9-981, hijabh_JILBAB-C (1)-52x, noritake_NTM163M, RS_Habshi Halwa Tin, sentiments_WRK1612, bata_comfit-8613714-43-9, UK_Namkino Mix Nimco 8 Pcs Gift Pack, Inoxy_Inoxy Hair Miracle Elixir, RS_Chum Chum Tin, Dany_AUK-650 , urban_ PT004-L, jackpot_JP-7999, UK_Gift Box Pistachio Delight 500 Gms, test_tcsconnect, sst_Lyquin-Regular fit-Large, Fcafe_11777-L, LC_359547105042, LC_3349668508587, RS_pheni Desi Ghee 1 kg , UK_Gulab Jamun Tin Pack 500 Gms, UK_Chum Chum Tin Pack  500 Gms, UK_Namkino Mix Nimco 200 Gms, sentiments_Ferrero Rocher Gift Box, EGO_E02377-SML-BG00-S, darzee_DP-234-B-Pink-15-M, Q MOBILE Noir W7, RS_Kaju Barfi, RS_cake rusk, HR_Bhel Puri 200g, UK_Gift Box Almond Delight 500 Gms, UK_Soan Papdi 500 Gms, Huawei Honor 4C, bata_comfit-8614096-43-9, bata_comfit-8614096-41-7, UK_Gift Box Baklawa 300 Gms, UK_Namkino Daal Moth Classic 160 Gms, kcc_Bold Pocket Perfume, UK_Cake Rusk Original 150 Gms, itter_AB 1207, Samsung Galaxy J7, Dany_AUK 55 , ...]</td>\n",
       "    </tr>\n",
       "    <tr>\n",
       "      <th>4</th>\n",
       "      <td>price</td>\n",
       "      <td>9121</td>\n",
       "      <td>[1950.0, 240.0, 2450.0, 360.0, 555.0, 80.0, 170.0, 96499.0, 5500.0, 210.0, 156.0, 120.0, 320.0, 1550.0, 420.0, 490.0, 899.25, 899.0, 149.0, 1000.0, 1913.0, 500.0, 100.0, 1500.0, 450.0, 20999.0, 165.0, 435.0, 90.0, 850.0, 3672.0, 7400.0, 3600.0, 143.0, 225.0, 4500.0, 3156.0, 2996.0, 300.0, 150.0, 465.0, 380.0, 350.0, 425.0, 251.0, 510.0, 325.0, 30417.0, 45250.0, 8100.0, 144.0, 5597.0, 999.0, 4950.0, 805.0, 280.0, 1.0, 760.0, 1875.0, 4200.0, 550.0, 1230.0, 370.0, 2.0, 795.0, 4750.0, 520.0, 260.0, 1450.0, 3950.0, 190.0, 16460.0, 599.0, 265.0, 250.0, 25999.0, 3900.0, 75.0, 140.0, 1050.0, 3750.0, 455.0, 1335.0, 10740.0, 230.0, 799.0, 480.0, 1200.0, 4530.0, 1890.0, 185.0, 5.0, 1350.0, 2490.0, 1650.0, 1870.0, 2050.0, 995.0, 285.0, 1099.0, ...]</td>\n",
       "    </tr>\n",
       "    <tr>\n",
       "      <th>5</th>\n",
       "      <td>qty_ordered</td>\n",
       "      <td>74</td>\n",
       "      <td>[1.0, 2.0, 5.0, 3.0, 4.0, 6.0, 10.0, 34.0, 9.0, 7.0, 14.0, 11.0, 15.0, 8.0, 20.0, 27.0, 12.0, 13.0, 130.0, 16.0, 40.0, 100.0, 50.0, 120.0, 25.0, 22.0, 200.0, 31.0, 97.0, 35.0, 119.0, 24.0, 99.0, 38.0, 30.0, 26.0, 48.0, 19.0, 32.0, 28.0, 37.0, 18.0, 150.0, 300.0, 21.0, 49.0, 17.0, 45.0, 36.0, 56.0, 72.0, 502.0, 33.0, 29.0, 304.0, 1000.0, 52.0, 125.0, 141.0, 180.0, 186.0, 96.0, 187.0, 144.0, 66.0, 60.0, 185.0, 90.0, 70.0, 23.0, 102.0, 500.0, 380.0, 75.0]</td>\n",
       "    </tr>\n",
       "    <tr>\n",
       "      <th>6</th>\n",
       "      <td>grand_total</td>\n",
       "      <td>36829</td>\n",
       "      <td>[1950.0, 240.0, 2450.0, 60.0, 1110.0, 80.0, 170.0, 96499.0, 5500.0, 366.0, 120.0, 0.0, 1550.0, 1270.0, 2118.25, 298.0, 3826.0, 3000.0, 450.0, 20999.0, 360.0, 300.0, 940.0, 3672.0, 740.0, 899.0, 11000.0, 168.0, 4500.0, 6152.0, 2210.0, 350.0, 425.0, 850.0, 251.0, 835.0, 30417.0, 700.0, 45250.0, 24588.0, 5597.0, 999.0, 4950.0, 805.0, 280.0, 1.0, 1195.0, 5.0, 2.0, 320.0, 1875.0, 4200.0, 550.0, 1230.0, 880.0, 1440.0, 2745.0, 12150.0, 520.0, 600.0, 3901.0, 1450.0, 3950.0, 760.0, 1125.0, 150.0, 16460.0, 599.0, 155.0, 250.0, 25999.0, 920.0, 3900.0, 3600.0, 140.0, 900.0, 1050.0, 3750.0, 455.0, 2670.0, 10740.0, 1399.0, 480.0, 1000.0, 4530.0, 1890.0, 8.0, 1350.0, 2490.0, 1650.0, 1870.0, 2050.0, 2160.0, 975.0, 1099.0, 720.0, 640.0, 3290.0, 1013.0, 323.0, ...]</td>\n",
       "    </tr>\n",
       "    <tr>\n",
       "      <th>7</th>\n",
       "      <td>increment_id</td>\n",
       "      <td>408785</td>\n",
       "      <td>[100147443, 100147444, 100147445, 100147446, 100147447, 100147448, 100147449, 100147450, 100147451, 100147452, 100147453, 100147454, 100147455, 100147456, 100147457, 100147458, 100147459, 100147460, 100147461, 100147462, 100147463, 100147464, 100147465, 100147466, 100147467, 100147468, 100147469, 100147470, 100147471, 100147472, 100147473, 100147474, 100147475, 100147476, 100147477, 100147478, 100147479, 100147480, 100147481, 100147482, 100147483, 100147484, 100147486, 100147485, 100147487, 100147488, 100147489, 100147490, 100147491, 100147492, 100147493, 100147494, 100147495, 100147496, 100147497, 100147498, 100147499, 100147500, 100147501, 100147502, 100147503, 100147505, 100147504, 100147506, 100147507, 100147508, 100147509, 100147510, 100147511, 100147512, 100147513, 100147514, 100147515, 100147516, 100147517, 100147518, 100147519, 100147520, 100147521, 100147522, 100147523, 100147524, 100147525, 100147526, 100147527, 100147528, 100147529, 100147530, 100147531, 100147532, 100147533, 100147534, 100147535, 100147536, 100147537, 100147538, 100147539, 100147540, 100147541, 100147542, ...]</td>\n",
       "    </tr>\n",
       "    <tr>\n",
       "      <th>8</th>\n",
       "      <td>category_name_1</td>\n",
       "      <td>16</td>\n",
       "      <td>[Women's Fashion, Beauty &amp; Grooming, Soghaat, Mobiles &amp; Tablets, Appliances, Home &amp; Living, Men's Fashion, Kids &amp; Baby, \\N, Others, Entertainment, Computing, Superstore, Health &amp; Sports, Books, School &amp; Education, nan]</td>\n",
       "    </tr>\n",
       "    <tr>\n",
       "      <th>9</th>\n",
       "      <td>sales_commission_code</td>\n",
       "      <td>7226</td>\n",
       "      <td>[\\N, R-FSD-52352, 105259, R-KHW-104406, R-FSD-58130, C-PEW-104656, C-Rwp-101853, C-ISB-47491, c-uet-44938, C-RWP-103867, R-KHS-104405, 104835, C-ISB-105964, 865116, C-ISB-40310, C-ISB-102148, C-RWP-102627, R-PEW-41424, C-MUX-33202, C-KHS-44926, C-RWP-66032, C-RWP-31924, C-MUX-106279, C-MUX-43032, R-LHW-105666, C-PEW-105784, C-MUX-48271, C-KHS-31122, R-KHS-103986, C-MUX-100079, C SKZ 41328, C-RWP-41876, C-RWP-47599, C-FSD-41249, C-RWP-102528, C LHE 41938, C-RWP-30884, C-RWP-31520, C-RWP-31691, C SKZ 103997, c-fsd-759, C-MUX-R52221, 7828, C-HDD-44781, R-RWP-103991, 103996, R-ISB-58059, C-FSD-42225, c-mux-47236, C-ISB-103273, C-MUX-52058, R-PEW-50644, C-MUX-31510, 80645, C-MUX-7521, 51442, C-MUX-20260, R-isb-57478, R-LHC-104132, C LHE 40936, R-KHS-103982, C-ISB-42133, C-ISB-84674, C-KHC-34670, C-MUX-30078, C-FSD-43702, R6596, R-LHW-104137, C-MUX-104110, R-LHE-90613, C-MUX-102023, C-GUJ-52213, C-MUX-105333, C-MUX-104331, R-LHC-104138, 80226, C-MUX-48275, 0KNFM, C_LHC_102999, 30071, c-mux42203, C-MUX-42203, 41078, C-SKZ43603, v, C-PEW-33551, 3293, 105114, 60615, 101651, C-ISB-102725, C-ISB-43887, R-LHW-103735, C-MUX-51991, R-PEW-104414, C-FSD-104646, C-KHS-43436, C-PEW-103055,  R-LHC-104412, C-PEW-33745, ...]</td>\n",
       "    </tr>\n",
       "    <tr>\n",
       "      <th>10</th>\n",
       "      <td>discount_amount</td>\n",
       "      <td>28058</td>\n",
       "      <td>[0.0, 300.0, 82.5, 217.5, 19.15, 180.85, 77.72, 122.28, 200.0, 149.3, 50.7, 148.57, 51.43, 81.52, 40.76, 157.38, 142.62, 54.79, 35.62, 49.32, 60.27, 1300.65, 1699.35, 136.84, 63.16, 225.0, 75.0, 100.0, 1.0, 141.66, 83.34, 52.63, 94.74, 242.86, 57.14, 134.21, 165.79, 111.11, 88.89, 500.0, 53.73, 52.24, 94.03, 133.33, 66.67, 125.31, 74.69, 195.0, 142.0, 55.0, 182.0, 180.0, 110.0, 70.0, 464.49, 35.51, 246.27, 253.73, 361.7, 138.3, 72.66, 31.14, 55.36, 147.06, 121.11, 1021.11, 245.46, 316.15, 417.28, 93.9, 98.59, 157.28, 75.12, 208.45, 291.55, 120.0, 160.0, 40.0, 423.66, 76.34, 430.23, 69.77, 156.76, 43.24, 44.69, 66.84, 343.77, 194.95, 87.16, 217.89, 351.25, 148.75, 458.0, 42.0, 5000.0, 2.0, 10.0, 2.31, 7.69, 207.6, ...]</td>\n",
       "    </tr>\n",
       "    <tr>\n",
       "      <th>11</th>\n",
       "      <td>payment_method</td>\n",
       "      <td>18</td>\n",
       "      <td>[cod, ublcreditcard, mygateway, customercredit, cashatdoorstep, mcblite, internetbanking, marketingexpense, productcredit, financesettlement, Payaxis, jazzvoucher, jazzwallet, Easypay, Easypay_MA, easypay_voucher, bankalfalah, apg]</td>\n",
       "    </tr>\n",
       "    <tr>\n",
       "      <th>12</th>\n",
       "      <td>Working Date</td>\n",
       "      <td>789</td>\n",
       "      <td>[7/1/2016, 7/2/2016, 7/3/2016, 7/4/2016, 7/5/2016, 7/6/2016, 7/7/2016, 7/8/2016, 7/9/2016, 7/10/2016, 7/11/2016, 7/12/2016, 7/13/2016, 7/14/2016, 7/15/2016, 7/16/2016, 7/17/2016, 7/18/2016, 7/19/2016, 7/20/2016, 7/21/2016, 7/22/2016, 7/23/2016, 7/24/2016, 7/25/2016, 7/26/2016, 7/27/2016, 7/28/2016, 7/29/2016, 7/30/2016, 7/31/2016, 8/1/2016, 8/2/2016, 8/3/2016, 8/4/2016, 8/5/2016, 8/6/2016, 8/7/2016, 8/8/2016, 8/9/2016, 8/10/2016, 8/11/2016, 8/12/2016, 8/13/2016, 8/14/2016, 8/15/2016, 8/16/2016, 8/17/2016, 8/18/2016, 8/19/2016, 8/20/2016, 8/21/2016, 8/22/2016, 8/23/2016, 8/24/2016, 8/25/2016, 8/26/2016, 8/27/2016, 8/28/2016, 8/29/2016, 8/30/2016, 8/31/2016, 9/1/2016, 9/2/2016, 9/3/2016, 9/4/2016, 9/5/2016, 9/6/2016, 9/7/2016, 9/8/2016, 9/9/2016, 9/10/2016, 9/11/2016, 9/12/2016, 9/13/2016, 9/14/2016, 9/15/2016, 9/16/2016, 9/17/2016, 9/18/2016, 9/19/2016, 9/20/2016, 9/21/2016, 9/22/2016, 9/23/2016, 9/24/2016, 9/25/2016, 9/26/2016, 9/27/2016, 9/28/2016, 9/29/2016, 9/30/2016, 10/1/2016, 10/2/2016, 10/3/2016, 10/4/2016, 10/5/2016, 10/6/2016, 10/7/2016, 10/8/2016, ...]</td>\n",
       "    </tr>\n",
       "    <tr>\n",
       "      <th>13</th>\n",
       "      <td>BI Status</td>\n",
       "      <td>4</td>\n",
       "      <td>[#REF!, Gross, Net, Valid]</td>\n",
       "    </tr>\n",
       "    <tr>\n",
       "      <th>14</th>\n",
       "      <td>MV</td>\n",
       "      <td>9720</td>\n",
       "      <td>[ 1,950 ,  240 ,  2,450 ,  360 ,  1,110 ,  80 ,  170 ,  96,499 ,  5,500 ,  210 ,  156 ,  120 ,  320 ,  1,550 ,  420 ,  490 ,  899 ,  149 ,  1,000 ,  1,913 ,  500 ,  3,000 ,  450 ,  20,999 ,  165 ,  435 ,  90 ,  850 ,  3,672 ,  7,400 ,  3,600 ,  143 ,  225 ,  4,500 ,  3,156 ,  2,996 ,  600 ,  300 ,  930 ,  380 ,  350 ,  425 ,  251 ,  510 ,  325 ,  30,417 ,  700 ,  45,250 ,  24,300 ,  288 ,  5,597 ,  999 ,  4,950 ,  805 ,  280 ,  1 ,  760 ,  5 ,  2 ,  1,875 ,  4,200 ,  550 ,  1,230 ,  370 ,  1,440 ,  795 ,  4,750 ,  520 ,  260 ,  3,900 ,  1,450 ,  3,950 ,  190 ,  16,460 ,  599 ,  265 ,  250 ,  25,999 ,  150 ,  75 ,  140 ,  1,050 ,  3,750 ,  455 ,  2,670 ,  10,740 ,  230 ,  799 ,  480 ,  1,200 ,  4,530 ,  1,890 ,  1,350 ,  2,490 ,  1,650 ,  1,870 ,  2,050 ,  995 ,  2,160 ,  285 , ...]</td>\n",
       "    </tr>\n",
       "    <tr>\n",
       "      <th>15</th>\n",
       "      <td>Year</td>\n",
       "      <td>3</td>\n",
       "      <td>[2016.0, 2017.0, 2018.0]</td>\n",
       "    </tr>\n",
       "    <tr>\n",
       "      <th>16</th>\n",
       "      <td>Month</td>\n",
       "      <td>12</td>\n",
       "      <td>[7.0, 8.0, 9.0, 10.0, 11.0, 12.0, 1.0, 2.0, 3.0, 4.0, 5.0, 6.0]</td>\n",
       "    </tr>\n",
       "    <tr>\n",
       "      <th>17</th>\n",
       "      <td>Customer Since</td>\n",
       "      <td>26</td>\n",
       "      <td>[2016-7, 2016-8, 2016-9, 2016-10, 2016-11, 2016-12, 2017-1, 2017-2, 2017-3, 2017-4, 2017-5, 2017-6, 2017-7, 2017-8, 2017-9, 2017-10, 2017-11, 2017-12, 2018-1, nan, 2018-2, 2018-3, 2018-4, 2018-5, 2018-6, 2018-7, 2018-8]</td>\n",
       "    </tr>\n",
       "    <tr>\n",
       "      <th>18</th>\n",
       "      <td>M-Y</td>\n",
       "      <td>26</td>\n",
       "      <td>[7-2016, 8-2016, 9-2016, 10-2016, 11-2016, 12-2016, 1-2017, 2-2017, 3-2017, 4-2017, 5-2017, 6-2017, 7-2017, 8-2017, 9-2017, 10-2017, 11-2017, 12-2017, 2-2018, 1-2018, 3-2018, 4-2018, 5-2018, 6-2018, 7-2018, 8-2018]</td>\n",
       "    </tr>\n",
       "    <tr>\n",
       "      <th>19</th>\n",
       "      <td>FY</td>\n",
       "      <td>3</td>\n",
       "      <td>[FY17, FY18, FY19]</td>\n",
       "    </tr>\n",
       "    <tr>\n",
       "      <th>20</th>\n",
       "      <td>Customer ID</td>\n",
       "      <td>115326</td>\n",
       "      <td>[1.0, 2.0, 3.0, 4.0, 5.0, 6.0, 7.0, 8.0, 9.0, 10.0, 11.0, 12.0, 13.0, 14.0, 15.0, 16.0, 17.0, 18.0, 19.0, 20.0, 21.0, 22.0, 23.0, 24.0, 25.0, 26.0, 27.0, 28.0, 29.0, 30.0, 31.0, 32.0, 33.0, 34.0, 35.0, 36.0, 37.0, 38.0, 39.0, 40.0, 41.0, 42.0, 43.0, 44.0, 45.0, 46.0, 47.0, 48.0, 49.0, 50.0, 51.0, 52.0, 53.0, 54.0, 55.0, 56.0, 57.0, 58.0, 59.0, 60.0, 61.0, 62.0, 63.0, 64.0, 65.0, 66.0, 67.0, 68.0, 69.0, 70.0, 71.0, 72.0, 73.0, 74.0, 75.0, 76.0, 77.0, 78.0, 79.0, 80.0, 81.0, 82.0, 83.0, 84.0, 85.0, 86.0, 87.0, 88.0, 89.0, 90.0, 91.0, 92.0, 93.0, 94.0, 95.0, 96.0, 97.0, 98.0, 99.0, 100.0, ...]</td>\n",
       "    </tr>\n",
       "  </tbody>\n",
       "</table>\n",
       "</div>"
      ],
      "text/plain": [
       "              Column Name  Number of Unique  \\\n",
       "0   item_id                584524             \n",
       "1   status                 16                 \n",
       "2   created_at             789                \n",
       "3   sku                    84889              \n",
       "4   price                  9121               \n",
       "5   qty_ordered            74                 \n",
       "6   grand_total            36829              \n",
       "7   increment_id           408785             \n",
       "8   category_name_1        16                 \n",
       "9   sales_commission_code  7226               \n",
       "10  discount_amount        28058              \n",
       "11  payment_method         18                 \n",
       "12  Working Date           789                \n",
       "13  BI Status              4                  \n",
       "14   MV                    9720               \n",
       "15  Year                   3                  \n",
       "16  Month                  12                 \n",
       "17  Customer Since         26                 \n",
       "18  M-Y                    26                 \n",
       "19  FY                     3                  \n",
       "20  Customer ID            115326             \n",
       "\n",
       "                                                                                                                                                                                                                                                                                                                                                                                                                                                                                                                                                                                                                                                                                                                                                                                                                                                                                                                                                                                                                                                                                                                                                                                                                                                                                                                                                                                                                                                                                                                                                                                                                                                                                                                                                                                                                                                                                                                                                                                                                                                                                                                                                                                                                                                                                                                                                     Unique Sample  \n",
       "0   [211131.0, 211133.0, 211134.0, 211135.0, 211136.0, 211137.0, 211138.0, 211139.0, 211140.0, 211141.0, 211142.0, 211143.0, 211144.0, 211145.0, 211146.0, 211147.0, 211149.0, 211150.0, 211151.0, 211152.0, 211153.0, 211154.0, 211155.0, 211156.0, 211157.0, 211158.0, 211160.0, 211162.0, 211163.0, 211164.0, 211166.0, 211168.0, 211169.0, 211170.0, 211171.0, 211172.0, 211173.0, 211174.0, 211175.0, 211176.0, 211177.0, 211179.0, 211180.0, 211182.0, 211184.0, 211185.0, 211186.0, 211187.0, 211188.0, 211189.0, 211190.0, 211191.0, 211192.0, 211193.0, 211194.0, 211196.0, 211197.0, 211198.0, 211199.0, 211200.0, 211202.0, 211201.0, 211203.0, 211204.0, 211205.0, 211206.0, 211207.0, 211208.0, 211209.0, 211211.0, 211212.0, 211213.0, 211214.0, 211215.0, 211217.0, 211218.0, 211219.0, 211220.0, 211221.0, 211222.0, 211223.0, 211225.0, 211224.0, 211226.0, 211227.0, 211228.0, 211229.0, 211230.0, 211231.0, 211232.0, 211233.0, 211234.0, 211235.0, 211236.0, 211237.0, 211238.0, 211239.0, 211240.0, 211241.0, 211242.0, ...]                                                                                                                                                                                                                                                                                                                                                                                                                                                                                                                                                                                                                                                                                                                                                                                                                                                                                                                                                                                                                                                                                                                                                                                                                                                                                                                   \n",
       "1   [complete, canceled, order_refunded, received, refund, closed, fraud, holded, exchange, pending_paypal, paid, \\N, cod, pending, nan, processing, payment_review]                                                                                                                                                                                                                                                                                                                                                                                                                                                                                                                                                                                                                                                                                                                                                                                                                                                                                                                                                                                                                                                                                                                                                                                                                                                                                                                                                                                                                                                                                                                                                                                                                                                                                                                                                                                                                                                                                                                                                                                                                                                                                                                                                                                                \n",
       "2   [7/1/2016, 7/2/2016, 7/3/2016, 7/4/2016, 7/5/2016, 7/6/2016, 7/7/2016, 7/8/2016, 7/9/2016, 7/10/2016, 7/11/2016, 7/12/2016, 7/13/2016, 7/14/2016, 7/15/2016, 7/16/2016, 7/17/2016, 7/18/2016, 7/19/2016, 7/20/2016, 7/21/2016, 7/22/2016, 7/23/2016, 7/24/2016, 7/25/2016, 7/26/2016, 7/27/2016, 7/28/2016, 7/29/2016, 7/30/2016, 7/31/2016, 8/1/2016, 8/2/2016, 8/3/2016, 8/4/2016, 8/5/2016, 8/6/2016, 8/7/2016, 8/8/2016, 8/9/2016, 8/10/2016, 8/11/2016, 8/12/2016, 8/13/2016, 8/14/2016, 8/15/2016, 8/16/2016, 8/17/2016, 8/18/2016, 8/19/2016, 8/20/2016, 8/21/2016, 8/22/2016, 8/23/2016, 8/24/2016, 8/25/2016, 8/26/2016, 8/27/2016, 8/28/2016, 8/29/2016, 8/30/2016, 8/31/2016, 9/1/2016, 9/2/2016, 9/3/2016, 9/4/2016, 9/5/2016, 9/6/2016, 9/7/2016, 9/8/2016, 9/9/2016, 9/10/2016, 9/11/2016, 9/12/2016, 9/13/2016, 9/14/2016, 9/15/2016, 9/16/2016, 9/17/2016, 9/18/2016, 9/19/2016, 9/20/2016, 9/21/2016, 9/22/2016, 9/23/2016, 9/24/2016, 9/25/2016, 9/26/2016, 9/27/2016, 9/28/2016, 9/29/2016, 9/30/2016, 10/1/2016, 10/2/2016, 10/3/2016, 10/4/2016, 10/5/2016, 10/6/2016, 10/7/2016, 10/8/2016, ...]                                                                                                                                                                                                                                                                                                                                                                                                                                                                                                                                                                                                                                                                                                                                                                                                                                                                                                                                                                                                                                                                                                                                                                                                                                          \n",
       "3   [kreations_YI 06-L, kcc_Buy 2 Frey Air Freshener & Get 1 Kasual Body Spray Free, Ego_UP0017-999-MR0, kcc_krone deal, BK7010400AG, UK_Namkino All In One 200 Gms, UK_Namkino Mix Nimco 400 Gms, Apple iPhone 6S 64GB, GFC_Pedestal Myga Cross Base (Special Guard) 24\", BK1070200PL, BK1130200CF, kcc_Sultanat, kcc_glamour deal, Assetmen_MD-346-M, cr_DATES WITH CASHEW-400 GM, UK_Gift Box Mix Dry Fruit Sweets 500 Gms, itter_AB 1199, RL_B005, bed&rest_S7, L&L_LLHLE8224S, J&J_JJR-4, J&J_JJR-20, D Lend a Helping Hand, Mochika_M0001112-12, Mochika_M0001112-8, SKMT_Blood Test, SKMT_Medicine, sputnik_701/5-11, Ctees-Black Zip- Up Hoodie-XL, Samsung Galaxy J5, Veet_4, RS_Gulab jaman Tin, cr_PEANUT SALTY-200 GM, Oriflame_21557, JBS_TAT-128, Ajmery_BRR-590-M, HOS_GUCFW75, Lexon_LL116B-Blue, kcc_Fantasy Perfumed Talcum Powder-200gm, 2Zee_SC6, Q MOBILE Noir X20, rehaab_RJ160047, Farah_3-B, RS_Sohan Halwa Tin, UK_Soan Papdi Original 250 Gms, UK_Gift Box Soghaat 500 Gms, RS_Double Delight, Al Muhafiz Sohan Halwa Almond, UK_Gift Box Baklawa 500 Gms, sputnik_2146/6-8, kkc_Kingtox 450ml Classic Green All Insect Killer Spray, Al Muhafiz Sohan Halwa Walnut, RS_Honey Dry Fruit Halwa, itter_AB 1214, Eco Star_40U557, Orient_OR-6057 GX LGFD LV, HOS_JPGCW100, kkc_Jasmine King Air Freshener, asimjofaeanew_5A, ajmery_F9-981, hijabh_JILBAB-C (1)-52x, noritake_NTM163M, RS_Habshi Halwa Tin, sentiments_WRK1612, bata_comfit-8613714-43-9, UK_Namkino Mix Nimco 8 Pcs Gift Pack, Inoxy_Inoxy Hair Miracle Elixir, RS_Chum Chum Tin, Dany_AUK-650 , urban_ PT004-L, jackpot_JP-7999, UK_Gift Box Pistachio Delight 500 Gms, test_tcsconnect, sst_Lyquin-Regular fit-Large, Fcafe_11777-L, LC_359547105042, LC_3349668508587, RS_pheni Desi Ghee 1 kg , UK_Gulab Jamun Tin Pack 500 Gms, UK_Chum Chum Tin Pack  500 Gms, UK_Namkino Mix Nimco 200 Gms, sentiments_Ferrero Rocher Gift Box, EGO_E02377-SML-BG00-S, darzee_DP-234-B-Pink-15-M, Q MOBILE Noir W7, RS_Kaju Barfi, RS_cake rusk, HR_Bhel Puri 200g, UK_Gift Box Almond Delight 500 Gms, UK_Soan Papdi 500 Gms, Huawei Honor 4C, bata_comfit-8614096-43-9, bata_comfit-8614096-41-7, UK_Gift Box Baklawa 300 Gms, UK_Namkino Daal Moth Classic 160 Gms, kcc_Bold Pocket Perfume, UK_Cake Rusk Original 150 Gms, itter_AB 1207, Samsung Galaxy J7, Dany_AUK 55 , ...]  \n",
       "4   [1950.0, 240.0, 2450.0, 360.0, 555.0, 80.0, 170.0, 96499.0, 5500.0, 210.0, 156.0, 120.0, 320.0, 1550.0, 420.0, 490.0, 899.25, 899.0, 149.0, 1000.0, 1913.0, 500.0, 100.0, 1500.0, 450.0, 20999.0, 165.0, 435.0, 90.0, 850.0, 3672.0, 7400.0, 3600.0, 143.0, 225.0, 4500.0, 3156.0, 2996.0, 300.0, 150.0, 465.0, 380.0, 350.0, 425.0, 251.0, 510.0, 325.0, 30417.0, 45250.0, 8100.0, 144.0, 5597.0, 999.0, 4950.0, 805.0, 280.0, 1.0, 760.0, 1875.0, 4200.0, 550.0, 1230.0, 370.0, 2.0, 795.0, 4750.0, 520.0, 260.0, 1450.0, 3950.0, 190.0, 16460.0, 599.0, 265.0, 250.0, 25999.0, 3900.0, 75.0, 140.0, 1050.0, 3750.0, 455.0, 1335.0, 10740.0, 230.0, 799.0, 480.0, 1200.0, 4530.0, 1890.0, 185.0, 5.0, 1350.0, 2490.0, 1650.0, 1870.0, 2050.0, 995.0, 285.0, 1099.0, ...]                                                                                                                                                                                                                                                                                                                                                                                                                                                                                                                                                                                                                                                                                                                                                                                                                                                                                                                                                                                                                                                                                                                                                                                                                                                                                                                                                                                                                                                                                                                                                                                      \n",
       "5   [1.0, 2.0, 5.0, 3.0, 4.0, 6.0, 10.0, 34.0, 9.0, 7.0, 14.0, 11.0, 15.0, 8.0, 20.0, 27.0, 12.0, 13.0, 130.0, 16.0, 40.0, 100.0, 50.0, 120.0, 25.0, 22.0, 200.0, 31.0, 97.0, 35.0, 119.0, 24.0, 99.0, 38.0, 30.0, 26.0, 48.0, 19.0, 32.0, 28.0, 37.0, 18.0, 150.0, 300.0, 21.0, 49.0, 17.0, 45.0, 36.0, 56.0, 72.0, 502.0, 33.0, 29.0, 304.0, 1000.0, 52.0, 125.0, 141.0, 180.0, 186.0, 96.0, 187.0, 144.0, 66.0, 60.0, 185.0, 90.0, 70.0, 23.0, 102.0, 500.0, 380.0, 75.0]                                                                                                                                                                                                                                                                                                                                                                                                                                                                                                                                                                                                                                                                                                                                                                                                                                                                                                                                                                                                                                                                                                                                                                                                                                                                                                                                                                                                                                                                                                                                                                                                                                                                                                                                                                                                                                                                                        \n",
       "6   [1950.0, 240.0, 2450.0, 60.0, 1110.0, 80.0, 170.0, 96499.0, 5500.0, 366.0, 120.0, 0.0, 1550.0, 1270.0, 2118.25, 298.0, 3826.0, 3000.0, 450.0, 20999.0, 360.0, 300.0, 940.0, 3672.0, 740.0, 899.0, 11000.0, 168.0, 4500.0, 6152.0, 2210.0, 350.0, 425.0, 850.0, 251.0, 835.0, 30417.0, 700.0, 45250.0, 24588.0, 5597.0, 999.0, 4950.0, 805.0, 280.0, 1.0, 1195.0, 5.0, 2.0, 320.0, 1875.0, 4200.0, 550.0, 1230.0, 880.0, 1440.0, 2745.0, 12150.0, 520.0, 600.0, 3901.0, 1450.0, 3950.0, 760.0, 1125.0, 150.0, 16460.0, 599.0, 155.0, 250.0, 25999.0, 920.0, 3900.0, 3600.0, 140.0, 900.0, 1050.0, 3750.0, 455.0, 2670.0, 10740.0, 1399.0, 480.0, 1000.0, 4530.0, 1890.0, 8.0, 1350.0, 2490.0, 1650.0, 1870.0, 2050.0, 2160.0, 975.0, 1099.0, 720.0, 640.0, 3290.0, 1013.0, 323.0, ...]                                                                                                                                                                                                                                                                                                                                                                                                                                                                                                                                                                                                                                                                                                                                                                                                                                                                                                                                                                                                                                                                                                                                                                                                                                                                                                                                                                                                                                                                                                                                                                           \n",
       "7   [100147443, 100147444, 100147445, 100147446, 100147447, 100147448, 100147449, 100147450, 100147451, 100147452, 100147453, 100147454, 100147455, 100147456, 100147457, 100147458, 100147459, 100147460, 100147461, 100147462, 100147463, 100147464, 100147465, 100147466, 100147467, 100147468, 100147469, 100147470, 100147471, 100147472, 100147473, 100147474, 100147475, 100147476, 100147477, 100147478, 100147479, 100147480, 100147481, 100147482, 100147483, 100147484, 100147486, 100147485, 100147487, 100147488, 100147489, 100147490, 100147491, 100147492, 100147493, 100147494, 100147495, 100147496, 100147497, 100147498, 100147499, 100147500, 100147501, 100147502, 100147503, 100147505, 100147504, 100147506, 100147507, 100147508, 100147509, 100147510, 100147511, 100147512, 100147513, 100147514, 100147515, 100147516, 100147517, 100147518, 100147519, 100147520, 100147521, 100147522, 100147523, 100147524, 100147525, 100147526, 100147527, 100147528, 100147529, 100147530, 100147531, 100147532, 100147533, 100147534, 100147535, 100147536, 100147537, 100147538, 100147539, 100147540, 100147541, 100147542, ...]                                                                                                                                                                                                                                                                                                                                                                                                                                                                                                                                                                                                                                                                                                                                                                                                                                                                                                                                                                                                                                                                                                                                                                                                               \n",
       "8   [Women's Fashion, Beauty & Grooming, Soghaat, Mobiles & Tablets, Appliances, Home & Living, Men's Fashion, Kids & Baby, \\N, Others, Entertainment, Computing, Superstore, Health & Sports, Books, School & Education, nan]                                                                                                                                                                                                                                                                                                                                                                                                                                                                                                                                                                                                                                                                                                                                                                                                                                                                                                                                                                                                                                                                                                                                                                                                                                                                                                                                                                                                                                                                                                                                                                                                                                                                                                                                                                                                                                                                                                                                                                                                                                                                                                                                      \n",
       "9   [\\N, R-FSD-52352, 105259, R-KHW-104406, R-FSD-58130, C-PEW-104656, C-Rwp-101853, C-ISB-47491, c-uet-44938, C-RWP-103867, R-KHS-104405, 104835, C-ISB-105964, 865116, C-ISB-40310, C-ISB-102148, C-RWP-102627, R-PEW-41424, C-MUX-33202, C-KHS-44926, C-RWP-66032, C-RWP-31924, C-MUX-106279, C-MUX-43032, R-LHW-105666, C-PEW-105784, C-MUX-48271, C-KHS-31122, R-KHS-103986, C-MUX-100079, C SKZ 41328, C-RWP-41876, C-RWP-47599, C-FSD-41249, C-RWP-102528, C LHE 41938, C-RWP-30884, C-RWP-31520, C-RWP-31691, C SKZ 103997, c-fsd-759, C-MUX-R52221, 7828, C-HDD-44781, R-RWP-103991, 103996, R-ISB-58059, C-FSD-42225, c-mux-47236, C-ISB-103273, C-MUX-52058, R-PEW-50644, C-MUX-31510, 80645, C-MUX-7521, 51442, C-MUX-20260, R-isb-57478, R-LHC-104132, C LHE 40936, R-KHS-103982, C-ISB-42133, C-ISB-84674, C-KHC-34670, C-MUX-30078, C-FSD-43702, R6596, R-LHW-104137, C-MUX-104110, R-LHE-90613, C-MUX-102023, C-GUJ-52213, C-MUX-105333, C-MUX-104331, R-LHC-104138, 80226, C-MUX-48275, 0KNFM, C_LHC_102999, 30071, c-mux42203, C-MUX-42203, 41078, C-SKZ43603, v, C-PEW-33551, 3293, 105114, 60615, 101651, C-ISB-102725, C-ISB-43887, R-LHW-103735, C-MUX-51991, R-PEW-104414, C-FSD-104646, C-KHS-43436, C-PEW-103055,  R-LHC-104412, C-PEW-33745, ...]                                                                                                                                                                                                                                                                                                                                                                                                                                                                                                                                                                                                                                                                                                                                                                                                                                                                                                                                                                                                                                                                                         \n",
       "10  [0.0, 300.0, 82.5, 217.5, 19.15, 180.85, 77.72, 122.28, 200.0, 149.3, 50.7, 148.57, 51.43, 81.52, 40.76, 157.38, 142.62, 54.79, 35.62, 49.32, 60.27, 1300.65, 1699.35, 136.84, 63.16, 225.0, 75.0, 100.0, 1.0, 141.66, 83.34, 52.63, 94.74, 242.86, 57.14, 134.21, 165.79, 111.11, 88.89, 500.0, 53.73, 52.24, 94.03, 133.33, 66.67, 125.31, 74.69, 195.0, 142.0, 55.0, 182.0, 180.0, 110.0, 70.0, 464.49, 35.51, 246.27, 253.73, 361.7, 138.3, 72.66, 31.14, 55.36, 147.06, 121.11, 1021.11, 245.46, 316.15, 417.28, 93.9, 98.59, 157.28, 75.12, 208.45, 291.55, 120.0, 160.0, 40.0, 423.66, 76.34, 430.23, 69.77, 156.76, 43.24, 44.69, 66.84, 343.77, 194.95, 87.16, 217.89, 351.25, 148.75, 458.0, 42.0, 5000.0, 2.0, 10.0, 2.31, 7.69, 207.6, ...]                                                                                                                                                                                                                                                                                                                                                                                                                                                                                                                                                                                                                                                                                                                                                                                                                                                                                                                                                                                                                                                                                                                                                                                                                                                                                                                                                                                                                                                                                                                                                                                                         \n",
       "11  [cod, ublcreditcard, mygateway, customercredit, cashatdoorstep, mcblite, internetbanking, marketingexpense, productcredit, financesettlement, Payaxis, jazzvoucher, jazzwallet, Easypay, Easypay_MA, easypay_voucher, bankalfalah, apg]                                                                                                                                                                                                                                                                                                                                                                                                                                                                                                                                                                                                                                                                                                                                                                                                                                                                                                                                                                                                                                                                                                                                                                                                                                                                                                                                                                                                                                                                                                                                                                                                                                                                                                                                                                                                                                                                                                                                                                                                                                                                                                                         \n",
       "12  [7/1/2016, 7/2/2016, 7/3/2016, 7/4/2016, 7/5/2016, 7/6/2016, 7/7/2016, 7/8/2016, 7/9/2016, 7/10/2016, 7/11/2016, 7/12/2016, 7/13/2016, 7/14/2016, 7/15/2016, 7/16/2016, 7/17/2016, 7/18/2016, 7/19/2016, 7/20/2016, 7/21/2016, 7/22/2016, 7/23/2016, 7/24/2016, 7/25/2016, 7/26/2016, 7/27/2016, 7/28/2016, 7/29/2016, 7/30/2016, 7/31/2016, 8/1/2016, 8/2/2016, 8/3/2016, 8/4/2016, 8/5/2016, 8/6/2016, 8/7/2016, 8/8/2016, 8/9/2016, 8/10/2016, 8/11/2016, 8/12/2016, 8/13/2016, 8/14/2016, 8/15/2016, 8/16/2016, 8/17/2016, 8/18/2016, 8/19/2016, 8/20/2016, 8/21/2016, 8/22/2016, 8/23/2016, 8/24/2016, 8/25/2016, 8/26/2016, 8/27/2016, 8/28/2016, 8/29/2016, 8/30/2016, 8/31/2016, 9/1/2016, 9/2/2016, 9/3/2016, 9/4/2016, 9/5/2016, 9/6/2016, 9/7/2016, 9/8/2016, 9/9/2016, 9/10/2016, 9/11/2016, 9/12/2016, 9/13/2016, 9/14/2016, 9/15/2016, 9/16/2016, 9/17/2016, 9/18/2016, 9/19/2016, 9/20/2016, 9/21/2016, 9/22/2016, 9/23/2016, 9/24/2016, 9/25/2016, 9/26/2016, 9/27/2016, 9/28/2016, 9/29/2016, 9/30/2016, 10/1/2016, 10/2/2016, 10/3/2016, 10/4/2016, 10/5/2016, 10/6/2016, 10/7/2016, 10/8/2016, ...]                                                                                                                                                                                                                                                                                                                                                                                                                                                                                                                                                                                                                                                                                                                                                                                                                                                                                                                                                                                                                                                                                                                                                                                                                                          \n",
       "13  [#REF!, Gross, Net, Valid]                                                                                                                                                                                                                                                                                                                                                                                                                                                                                                                                                                                                                                                                                                                                                                                                                                                                                                                                                                                                                                                                                                                                                                                                                                                                                                                                                                                                                                                                                                                                                                                                                                                                                                                                                                                                                                                                                                                                                                                                                                                                                                                                                                                                                                                                                                                                      \n",
       "14  [ 1,950 ,  240 ,  2,450 ,  360 ,  1,110 ,  80 ,  170 ,  96,499 ,  5,500 ,  210 ,  156 ,  120 ,  320 ,  1,550 ,  420 ,  490 ,  899 ,  149 ,  1,000 ,  1,913 ,  500 ,  3,000 ,  450 ,  20,999 ,  165 ,  435 ,  90 ,  850 ,  3,672 ,  7,400 ,  3,600 ,  143 ,  225 ,  4,500 ,  3,156 ,  2,996 ,  600 ,  300 ,  930 ,  380 ,  350 ,  425 ,  251 ,  510 ,  325 ,  30,417 ,  700 ,  45,250 ,  24,300 ,  288 ,  5,597 ,  999 ,  4,950 ,  805 ,  280 ,  1 ,  760 ,  5 ,  2 ,  1,875 ,  4,200 ,  550 ,  1,230 ,  370 ,  1,440 ,  795 ,  4,750 ,  520 ,  260 ,  3,900 ,  1,450 ,  3,950 ,  190 ,  16,460 ,  599 ,  265 ,  250 ,  25,999 ,  150 ,  75 ,  140 ,  1,050 ,  3,750 ,  455 ,  2,670 ,  10,740 ,  230 ,  799 ,  480 ,  1,200 ,  4,530 ,  1,890 ,  1,350 ,  2,490 ,  1,650 ,  1,870 ,  2,050 ,  995 ,  2,160 ,  285 , ...]                                                                                                                                                                                                                                                                                                                                                                                                                                                                                                                                                                                                                                                                                                                                                                                                                                                                                                                                                                                                                                                                                                                                                                                                                                                                                                                                                                                                                                                                                                                                        \n",
       "15  [2016.0, 2017.0, 2018.0]                                                                                                                                                                                                                                                                                                                                                                                                                                                                                                                                                                                                                                                                                                                                                                                                                                                                                                                                                                                                                                                                                                                                                                                                                                                                                                                                                                                                                                                                                                                                                                                                                                                                                                                                                                                                                                                                                                                                                                                                                                                                                                                                                                                                                                                                                                                                        \n",
       "16  [7.0, 8.0, 9.0, 10.0, 11.0, 12.0, 1.0, 2.0, 3.0, 4.0, 5.0, 6.0]                                                                                                                                                                                                                                                                                                                                                                                                                                                                                                                                                                                                                                                                                                                                                                                                                                                                                                                                                                                                                                                                                                                                                                                                                                                                                                                                                                                                                                                                                                                                                                                                                                                                                                                                                                                                                                                                                                                                                                                                                                                                                                                                                                                                                                                                                                 \n",
       "17  [2016-7, 2016-8, 2016-9, 2016-10, 2016-11, 2016-12, 2017-1, 2017-2, 2017-3, 2017-4, 2017-5, 2017-6, 2017-7, 2017-8, 2017-9, 2017-10, 2017-11, 2017-12, 2018-1, nan, 2018-2, 2018-3, 2018-4, 2018-5, 2018-6, 2018-7, 2018-8]                                                                                                                                                                                                                                                                                                                                                                                                                                                                                                                                                                                                                                                                                                                                                                                                                                                                                                                                                                                                                                                                                                                                                                                                                                                                                                                                                                                                                                                                                                                                                                                                                                                                                                                                                                                                                                                                                                                                                                                                                                                                                                                                     \n",
       "18  [7-2016, 8-2016, 9-2016, 10-2016, 11-2016, 12-2016, 1-2017, 2-2017, 3-2017, 4-2017, 5-2017, 6-2017, 7-2017, 8-2017, 9-2017, 10-2017, 11-2017, 12-2017, 2-2018, 1-2018, 3-2018, 4-2018, 5-2018, 6-2018, 7-2018, 8-2018]                                                                                                                                                                                                                                                                                                                                                                                                                                                                                                                                                                                                                                                                                                                                                                                                                                                                                                                                                                                                                                                                                                                                                                                                                                                                                                                                                                                                                                                                                                                                                                                                                                                                                                                                                                                                                                                                                                                                                                                                                                                                                                                                          \n",
       "19  [FY17, FY18, FY19]                                                                                                                                                                                                                                                                                                                                                                                                                                                                                                                                                                                                                                                                                                                                                                                                                                                                                                                                                                                                                                                                                                                                                                                                                                                                                                                                                                                                                                                                                                                                                                                                                                                                                                                                                                                                                                                                                                                                                                                                                                                                                                                                                                                                                                                                                                                                              \n",
       "20  [1.0, 2.0, 3.0, 4.0, 5.0, 6.0, 7.0, 8.0, 9.0, 10.0, 11.0, 12.0, 13.0, 14.0, 15.0, 16.0, 17.0, 18.0, 19.0, 20.0, 21.0, 22.0, 23.0, 24.0, 25.0, 26.0, 27.0, 28.0, 29.0, 30.0, 31.0, 32.0, 33.0, 34.0, 35.0, 36.0, 37.0, 38.0, 39.0, 40.0, 41.0, 42.0, 43.0, 44.0, 45.0, 46.0, 47.0, 48.0, 49.0, 50.0, 51.0, 52.0, 53.0, 54.0, 55.0, 56.0, 57.0, 58.0, 59.0, 60.0, 61.0, 62.0, 63.0, 64.0, 65.0, 66.0, 67.0, 68.0, 69.0, 70.0, 71.0, 72.0, 73.0, 74.0, 75.0, 76.0, 77.0, 78.0, 79.0, 80.0, 81.0, 82.0, 83.0, 84.0, 85.0, 86.0, 87.0, 88.0, 89.0, 90.0, 91.0, 92.0, 93.0, 94.0, 95.0, 96.0, 97.0, 98.0, 99.0, 100.0, ...]                                                                                                                                                                                                                                                                                                                                                                                                                                                                                                                                                                                                                                                                                                                                                                                                                                                                                                                                                                                                                                                                                                                                                                                                                                                                                                                                                                                                                                                                                                                                                                                                                                                                                                                                           "
      ]
     },
     "execution_count": 55,
     "metadata": {},
     "output_type": "execute_result"
    }
   ],
   "source": [
    "pd.set_option('display.max_colwidth', -1)\n",
    "# data uni di tiap kolom\n",
    "listItem = []\n",
    "for col in df.columns :\n",
    "    listItem.append( [col, df[col].nunique(), df[col].unique()])\n",
    "\n",
    "tabel1Desc = pd.DataFrame(columns=['Column Name', 'Number of Unique', 'Unique Sample'],\n",
    "                     data=listItem)\n",
    "tabel1Desc"
   ]
  },
  {
   "cell_type": "code",
   "execution_count": 56,
   "metadata": {},
   "outputs": [],
   "source": [
    "# menghapus kolom yang tidak digunakan\n",
    "df.drop(columns=['Working Date', 'Customer Since', 'FY',' MV ','BI Status'], inplace=True)"
   ]
  },
  {
   "cell_type": "markdown",
   "metadata": {},
   "source": [
    "Setelah melakukan penghapusan baris yang seluruhnya kosong, dari hasil tabel diatas diketahui bahwa ada beberapa kolom yang masih memiliki data kosong. kolom tersebut adalah kolom status, sku, category_name_1,sales_commission_code, Customer Since, Customer ID. Data kosong dalam kolom tersebut diwakili dengan data NaN. Untuk tahap selanjutnya akan dilakukan analisis lebih lanjut lagi terkait data NaN tersebut, apakah akan dihapus atau dirubah.<br><br>\n",
    "Selain itu akan dilakukan beberapa kolom yang tidak akan digunakan dalam data analisis ini yaitu: \n",
    " - working date, Customer Since, dan FY --> merupakan data yang sama sehingga hanya akan menggunakan kolom created date\n",
    " - MV --> karena data merupakan duplikat dari price\n",
    " - BI status --> karena sulit untuk dikuantifikasi<br>"
   ]
  },
  {
   "cell_type": "markdown",
   "metadata": {},
   "source": [
    "## Missing Value"
   ]
  },
  {
   "cell_type": "code",
   "execution_count": 57,
   "metadata": {},
   "outputs": [
    {
     "data": {
      "text/plain": [
       "item_id                  0     \n",
       "status                   15    \n",
       "created_at               0     \n",
       "sku                      20    \n",
       "price                    0     \n",
       "qty_ordered              0     \n",
       "grand_total              0     \n",
       "increment_id             0     \n",
       "category_name_1          164   \n",
       "sales_commission_code    137175\n",
       "discount_amount          0     \n",
       "payment_method           0     \n",
       "Year                     0     \n",
       "Month                    0     \n",
       "M-Y                      0     \n",
       "Customer ID              11    \n",
       "dtype: int64"
      ]
     },
     "execution_count": 57,
     "metadata": {},
     "output_type": "execute_result"
    }
   ],
   "source": [
    "# Jumlah Missing Value disetiap kolom\n",
    "df.isna().sum()"
   ]
  },
  {
   "cell_type": "code",
   "execution_count": 58,
   "metadata": {},
   "outputs": [
    {
     "data": {
      "text/plain": [
       "item_id                 0.000 \n",
       "status                  0.003 \n",
       "created_at              0.000 \n",
       "sku                     0.003 \n",
       "price                   0.000 \n",
       "qty_ordered             0.000 \n",
       "grand_total             0.000 \n",
       "increment_id            0.000 \n",
       "category_name_1         0.028 \n",
       "sales_commission_code   23.468\n",
       "discount_amount         0.000 \n",
       "payment_method          0.000 \n",
       "Year                    0.000 \n",
       "Month                   0.000 \n",
       "M-Y                     0.000 \n",
       "Customer ID             0.002 \n",
       "dtype: float64"
      ]
     },
     "execution_count": 58,
     "metadata": {},
     "output_type": "execute_result"
    }
   ],
   "source": [
    "# persentase missing value di tiap kolom\n",
    "df.isna().sum()/df.shape[0]*100"
   ]
  },
  {
   "cell_type": "markdown",
   "metadata": {},
   "source": [
    "Data diatas dapat dilihat terdapat beberapa kolom yang masih memiliki data yang *missing value* yaitu kolom status, sku, category_name_1, sales_commission_code, dan Customer ID. Kolom sales_comission_code memiliki *missing value* paling banyak yaitu 137.175 data atau 23.46% dari total keseluruhan data yang ada. Apabila dihapus tentu saja akan mempengaruhi hasil data analisis kedepannya, sedangkan untuk kolom lainnya hanya memiliki sedikit *missing value* sehingga apabila datanya dihapus tidak akan berpengaruh besar terhadap hasil analisis."
   ]
  },
  {
   "cell_type": "code",
   "execution_count": 59,
   "metadata": {},
   "outputs": [
    {
     "data": {
      "text/plain": [
       "\\N                339001\n",
       "40968             2710  \n",
       "C-LHW-50074       2434  \n",
       "C-RWP-31924       1720  \n",
       "cisb30211         1613  \n",
       "                  ...   \n",
       "100278139         1     \n",
       "rwp-wah-104124    1     \n",
       "C-FSD-42199       1     \n",
       "Cfsd43702         1     \n",
       "C LHE 45016       1     \n",
       "Name: sales_commission_code, Length: 7226, dtype: int64"
      ]
     },
     "execution_count": 59,
     "metadata": {},
     "output_type": "execute_result"
    }
   ],
   "source": [
    "# data dari kolom sales_commission_code\n",
    "df['sales_commission_code'].value_counts()"
   ]
  },
  {
   "cell_type": "markdown",
   "metadata": {},
   "source": [
    "Dari hasil data sales_commission_code bisa dikatakan bahwa pelanggan yang tidak menggunakan kode komisi penjualan adalah yang paling banyak.<br>\n",
    "Asusmsi yang dapat diberikan kepada kolom sales_commision_code yaitu kemungkinan *missing value* terjadi dikarenakan pelanggan tidak memilih opsi \\N dan lebih memilih untuk tidak mengisi kode komisi penjualan sama sekali. Tahap berikutnya *missing value* pada kolom sales_commision_code akan diisi dengan \\N."
   ]
  },
  {
   "cell_type": "code",
   "execution_count": 60,
   "metadata": {},
   "outputs": [],
   "source": [
    "df.sales_commission_code = df.sales_commission_code.fillna('\\\\N')"
   ]
  },
  {
   "cell_type": "code",
   "execution_count": 61,
   "metadata": {},
   "outputs": [
    {
     "data": {
      "text/plain": [
       "\\N                476176\n",
       "40968             2710  \n",
       "C-LHW-50074       2434  \n",
       "C-RWP-31924       1720  \n",
       "cisb30211         1613  \n",
       "                  ...   \n",
       "100278139         1     \n",
       "rwp-wah-104124    1     \n",
       "C-FSD-42199       1     \n",
       "Cfsd43702         1     \n",
       "C LHE 45016       1     \n",
       "Name: sales_commission_code, Length: 7226, dtype: int64"
      ]
     },
     "execution_count": 61,
     "metadata": {},
     "output_type": "execute_result"
    }
   ],
   "source": [
    "# data pada kolom sales_commission_code setelah dilakukan pengisian\n",
    "df['sales_commission_code'].value_counts()"
   ]
  },
  {
   "cell_type": "code",
   "execution_count": 62,
   "metadata": {},
   "outputs": [
    {
     "data": {
      "text/plain": [
       "164"
      ]
     },
     "execution_count": 62,
     "metadata": {},
     "output_type": "execute_result"
    }
   ],
   "source": [
    "# jumlah missing value untuk kolom category_name_1\n",
    "df['category_name_1'].isna().sum()"
   ]
  },
  {
   "cell_type": "code",
   "execution_count": 63,
   "metadata": {},
   "outputs": [
    {
     "data": {
      "text/plain": [
       "Mobiles & Tablets     115710\n",
       "Men's Fashion         92221 \n",
       "Women's Fashion       59721 \n",
       "Appliances            52413 \n",
       "Superstore            43613 \n",
       "Beauty & Grooming     41496 \n",
       "Soghaat               34011 \n",
       "Others                29218 \n",
       "Home & Living         26504 \n",
       "Entertainment         26326 \n",
       "Health & Sports       17502 \n",
       "Kids & Baby           16494 \n",
       "Computing             15933 \n",
       "\\N                    7850  \n",
       "School & Education    3478  \n",
       "Books                 1870  \n",
       "Name: category_name_1, dtype: int64"
      ]
     },
     "execution_count": 63,
     "metadata": {},
     "output_type": "execute_result"
    }
   ],
   "source": [
    "df['category_name_1'].value_counts()"
   ]
  },
  {
   "cell_type": "markdown",
   "metadata": {},
   "source": [
    "Dari hasil data category_name_1 terdapat 164 data *missing value*. Ada beberapa cara yang bisa digunakan untuk menghilangkan *missing value* tersebut yaitu salah satu dengan cara menghapus baris yang memiliki *missing value*, namun hal tersebut adalah cara terakhir jika tidak ada opsi lain. Pada kolom category_name_1 *missing value* akan diasumsikan sebagai value *others* dibanding harus menghapus baris tersebut. "
   ]
  },
  {
   "cell_type": "code",
   "execution_count": 64,
   "metadata": {},
   "outputs": [],
   "source": [
    "df.category_name_1 = df.category_name_1.fillna('Others')"
   ]
  },
  {
   "cell_type": "code",
   "execution_count": 65,
   "metadata": {},
   "outputs": [
    {
     "data": {
      "text/plain": [
       "Mobiles & Tablets     115710\n",
       "Men's Fashion         92221 \n",
       "Women's Fashion       59721 \n",
       "Appliances            52413 \n",
       "Superstore            43613 \n",
       "Beauty & Grooming     41496 \n",
       "Soghaat               34011 \n",
       "Others                29382 \n",
       "Home & Living         26504 \n",
       "Entertainment         26326 \n",
       "Health & Sports       17502 \n",
       "Kids & Baby           16494 \n",
       "Computing             15933 \n",
       "\\N                    7850  \n",
       "School & Education    3478  \n",
       "Books                 1870  \n",
       "Name: category_name_1, dtype: int64"
      ]
     },
     "execution_count": 65,
     "metadata": {},
     "output_type": "execute_result"
    }
   ],
   "source": [
    "df['category_name_1'].value_counts()"
   ]
  },
  {
   "cell_type": "code",
   "execution_count": 66,
   "metadata": {},
   "outputs": [],
   "source": [
    "# menghapus missing value pada kolom sku dan status\n",
    "df = df.dropna()"
   ]
  },
  {
   "cell_type": "markdown",
   "metadata": {},
   "source": [
    "Menghilangkan *missing value* pada kolom sku dan status dengan cara menghapus seluruh baris dilakukan karena jumlah missing value pada kolom tersebut sangat sedikit sehingga tidak akan memiliki pengaruh terhadap data analisis."
   ]
  },
  {
   "cell_type": "code",
   "execution_count": 67,
   "metadata": {},
   "outputs": [
    {
     "data": {
      "text/plain": [
       "item_id                  0\n",
       "status                   0\n",
       "created_at               0\n",
       "sku                      0\n",
       "price                    0\n",
       "qty_ordered              0\n",
       "grand_total              0\n",
       "increment_id             0\n",
       "category_name_1          0\n",
       "sales_commission_code    0\n",
       "discount_amount          0\n",
       "payment_method           0\n",
       "Year                     0\n",
       "Month                    0\n",
       "M-Y                      0\n",
       "Customer ID              0\n",
       "dtype: int64"
      ]
     },
     "execution_count": 67,
     "metadata": {},
     "output_type": "execute_result"
    }
   ],
   "source": [
    "# jumlah missing value setelah dilakukan data cleanning dan fill missing value\n",
    "df.isna().sum()"
   ]
  },
  {
   "cell_type": "code",
   "execution_count": 68,
   "metadata": {},
   "outputs": [
    {
     "name": "stdout",
     "output_type": "stream",
     "text": [
      "<class 'pandas.core.frame.DataFrame'>\n",
      "Int64Index: 584478 entries, 0 to 584523\n",
      "Data columns (total 16 columns):\n",
      " #   Column                 Non-Null Count   Dtype  \n",
      "---  ------                 --------------   -----  \n",
      " 0   item_id                584478 non-null  float64\n",
      " 1   status                 584478 non-null  object \n",
      " 2   created_at             584478 non-null  object \n",
      " 3   sku                    584478 non-null  object \n",
      " 4   price                  584478 non-null  float64\n",
      " 5   qty_ordered            584478 non-null  float64\n",
      " 6   grand_total            584478 non-null  float64\n",
      " 7   increment_id           584478 non-null  object \n",
      " 8   category_name_1        584478 non-null  object \n",
      " 9   sales_commission_code  584478 non-null  object \n",
      " 10  discount_amount        584478 non-null  float64\n",
      " 11  payment_method         584478 non-null  object \n",
      " 12  Year                   584478 non-null  float64\n",
      " 13  Month                  584478 non-null  float64\n",
      " 14  M-Y                    584478 non-null  object \n",
      " 15  Customer ID            584478 non-null  float64\n",
      "dtypes: float64(8), object(8)\n",
      "memory usage: 75.8+ MB\n"
     ]
    }
   ],
   "source": [
    "df.info()"
   ]
  },
  {
   "cell_type": "markdown",
   "metadata": {},
   "source": [
    "Dari hasil pengolahan akhir *missing value* didapatkan terdapat 584489 baris data dan 12 kolom data yang siap untuk dilakukan analisis"
   ]
  },
  {
   "cell_type": "markdown",
   "metadata": {},
   "source": [
    "## Data Formating"
   ]
  },
  {
   "cell_type": "code",
   "execution_count": 69,
   "metadata": {},
   "outputs": [],
   "source": [
    "# Memperbaiki tipe data float menjadi int atau str\n",
    "\n",
    "df['item_id'] = df['item_id'].astype(int)\n",
    "df['qty_ordered'] = df['qty_ordered'].astype(int)\n",
    "df['Year'] = df['Year'].astype(int)\n",
    "df['Month'] = df['Month'].astype(int)\n",
    "df['Customer ID'] = df['Customer ID'].astype(str)"
   ]
  },
  {
   "cell_type": "markdown",
   "metadata": {},
   "source": [
    "## Outliers"
   ]
  },
  {
   "cell_type": "code",
   "execution_count": 70,
   "metadata": {},
   "outputs": [
    {
     "data": {
      "image/png": "[encoded data removed]",
      "text/plain": [
       "<Figure size 432x288 with 1 Axes>"
      ]
     },
     "metadata": {},
     "output_type": "display_data"
    },
    {
     "data": {
      "image/png": "[encoded data removed]",
      "text/plain": [
       "<Figure size 432x288 with 1 Axes>"
      ]
     },
     "metadata": {},
     "output_type": "display_data"
    },
    {
     "data": {
      "image/png": "[encoded data removed]",
      "text/plain": [
       "<Figure size 432x288 with 1 Axes>"
      ]
     },
     "metadata": {},
     "output_type": "display_data"
    }
   ],
   "source": [
    "\n",
    "plt.boxplot(df['grand_total']) #creating boxplot using matplotlib\n",
    "plt.title('Grand Total', size = 15) #title\n",
    "plt.xlabel('Grand Total') #xlabel\n",
    "plt.ylabel('Value') #ylabel\n",
    "plt.show()\n",
    "\n",
    "plt.boxplot(df['price']) #creating boxplot using matplotlib\n",
    "plt.title('Price', size = 15) #title\n",
    "plt.xlabel('price') #xlabel\n",
    "plt.ylabel('Value') #ylabel\n",
    "plt.show()\n",
    "\n",
    "plt.boxplot(df['discount_amount']) #creating boxplot using matplotlib\n",
    "plt.title('Discount Amount', size = 15) #title\n",
    "plt.xlabel('discount amount') #xlabel\n",
    "plt.ylabel('Value') #ylabel\n",
    "plt.show()"
   ]
  },
  {
   "cell_type": "markdown",
   "metadata": {},
   "source": [
    "## Duplicate"
   ]
  },
  {
   "cell_type": "code",
   "execution_count": 71,
   "metadata": {},
   "outputs": [
    {
     "data": {
      "text/plain": [
       "0"
      ]
     },
     "execution_count": 71,
     "metadata": {},
     "output_type": "execute_result"
    }
   ],
   "source": [
    "# memeriksa data duplikat\n",
    "df.duplicated().sum()"
   ]
  },
  {
   "cell_type": "markdown",
   "metadata": {},
   "source": [
    "Dari hasil pengujian outliers, dapat dilihat bahwa banyak sekali data yang terindikasi outliers. Akan tetapi menghapus outliers akan membuat data menjadi bias sehingga pada tahap ini tidak ada data yang dihilangkan karena outliers.<br>\n",
    "Dari hasil pengujian data duplikat, tidak ditemukan adanya data duplikat."
   ]
  },
  {
   "cell_type": "code",
   "execution_count": 72,
   "metadata": {},
   "outputs": [],
   "source": [
    "# menyimpan data untuk digunakan dalam pengolahan tableu\n",
    "\n",
    "# df.to_excel(\"D:\\Belajar Data Science\\Capstone Project\\E-commerce.xlsx\")\n",
    "\n",
    "# df.to_excel(\"E-commerce.xlsx\")\n"
   ]
  },
  {
   "cell_type": "markdown",
   "metadata": {},
   "source": [
    "# Data Analysis"
   ]
  },
  {
   "cell_type": "markdown",
   "metadata": {},
   "source": [
    "Setelah melakukan data understanding dan data cleanning, tahap selanjutnya adalah melakukan data analisis yang bertujuan untuk mengetahui karakteristik data yang kita miliki saat ini.<br>\n",
    "<br>\n",
    "Analisis pertama yang dilakukan adalah melihat kategori produk mana yang paling laku dijual di e-commerce selama periode waktu Maret 2016 sampai dengan Agustus 2018."
   ]
  },
  {
   "cell_type": "markdown",
   "metadata": {},
   "source": [
    "## Produk kategori yang paling banyak laku dari Maret 2016 - Agustus 2018"
   ]
  },
  {
   "cell_type": "code",
   "execution_count": 73,
   "metadata": {},
   "outputs": [
    {
     "data": {
      "text/plain": [
       "Mobiles & Tablets     115709\n",
       "Men's Fashion         92218 \n",
       "Women's Fashion       59720 \n",
       "Appliances            52413 \n",
       "Superstore            43611 \n",
       "Beauty & Grooming     41493 \n",
       "Soghaat               34011 \n",
       "Others                29372 \n",
       "Home & Living         26504 \n",
       "Entertainment         26322 \n",
       "Health & Sports       17502 \n",
       "Kids & Baby           16489 \n",
       "Computing             15933 \n",
       "\\N                    7833  \n",
       "School & Education    3478  \n",
       "Books                 1870  \n",
       "Name: category_name_1, dtype: int64"
      ]
     },
     "execution_count": 73,
     "metadata": {},
     "output_type": "execute_result"
    }
   ],
   "source": [
    "df['category_name_1'].value_counts()"
   ]
  },
  {
   "cell_type": "code",
   "execution_count": 74,
   "metadata": {},
   "outputs": [
    {
     "data": {
      "image/png": "[encoded data removed]",
      "text/plain": [
       "<Figure size 504x504 with 1 Axes>"
      ]
     },
     "metadata": {},
     "output_type": "display_data"
    }
   ],
   "source": [
    "plt.figure(figsize=(7,7))\n",
    "sns.countplot(data=df, x = 'category_name_1',color='#42b7bd',order = df['category_name_1'].value_counts().index)\n",
    "plt.title('Jumlah pembelian per kategori barang')\n",
    "plt.xticks(rotation=90)\n",
    "plt.xlabel('Produk Kategori')\n",
    "plt.ylabel('Jumlah Pembelian')\n",
    "plt.show()"
   ]
  },
  {
   "cell_type": "code",
   "execution_count": 75,
   "metadata": {},
   "outputs": [
    {
     "data": {
      "text/plain": [
       "<AxesSubplot:xlabel='category_name_1', ylabel='count'>"
      ]
     },
     "execution_count": 75,
     "metadata": {},
     "output_type": "execute_result"
    },
    {
     "data": {
      "image/png": "[encoded data removed]",
      "text/plain": [
       "<Figure size 2160x720 with 1 Axes>"
      ]
     },
     "metadata": {},
     "output_type": "display_data"
    }
   ],
   "source": [
    "# countplot dari produk kategori yang paling laku dari tahun yang berbeda (2016-2018)\n",
    "\n",
    "plt.figure(figsize=(30,10))\n",
    "\n",
    "sns.set_style(\"whitegrid\")\n",
    "sns.countplot(x='category_name_1', data = df, hue='Year', palette='YlGnBu')\n"
   ]
  },
  {
   "cell_type": "markdown",
   "metadata": {},
   "source": [
    "### Analisis\n",
    "\n",
    "Berdasarkan tabel dan grafik produk kategori yang paling banyak laku dari Maret 2016 sampai dengan Agustus 2018 diketahui bahwa Mobile & Tablet merupakan kategori produk yang paling laku dengan total transaksi sebanyak 115709 diikuti Men's fashion dengan total transaksi sebanyak 92218 dan Women's Fashion dengan total transaksi sebanyak 59720.Sedangkan pada data tahunan, pada tahun 2017 menjadi tahun yang paling banyak laku untuk ketiga kategori produk tersebut, dimana mobile & tablet total penjualannya hampir mencapai 600000 transaksi. Dikutip dari seller.alibaba.com dan hutch.pk menyatakan bahwa mobile & tablet, men's fashion dan women's fashion masuk kedalam 10 kategori produk yang paling banyak dicari oleh masyarakat Pakitas melalui e-commerce.\n",
    "<br>\n",
    "<br>\n",
    "source: https://www.hutch.pk/most-demanding-online-products-in-pakistan/<br>\n",
    "        https://seller.alibaba.com/businessblogs/px001tae0-10-best-selling-online-products-in-pakistan"
   ]
  },
  {
   "cell_type": "markdown",
   "metadata": {},
   "source": [
    "### Rekomendasi\n",
    "\n",
    "Rekomendasi yang dapat diberikan adalah untuk kategori produk mobile & tablet adalah untuk fokus meningkatkan promosi dan marketing dengan program-program yang menarik dan menguntungkan untuk pelanggan pada umur 21 sampai 30 tahun karena 77% pengguna smartphone ada pada rentang umur tersebut. Selain menjual smartphone, e-commerce disaranakan untuk menjual low-cost phone alasannya adalah masih banyak pengguna yang menggunakan low-cost phone sebagai secondary option untuk alasan keamanan dan juga e-commerce bisa menyediakan produk penunjang dari mobile & tablet seperti aksesoris 3rd party ataupun aksesoris official dengan harga lebih murah dibanding harga pembelian secara offline.\n",
    "<br>\n",
    "<br>\n",
    "source: https://pas.org.pk/smart-phone-usage-in-pakistan-infographics/"
   ]
  },
  {
   "cell_type": "markdown",
   "metadata": {},
   "source": [
    "## Tiga Kategori Produk dengan Pendapatan Terbesar dan Terkecil"
   ]
  },
  {
   "cell_type": "code",
   "execution_count": 76,
   "metadata": {},
   "outputs": [
    {
     "data": {
      "image/png": "[encoded data removed]",
      "text/plain": [
       "<Figure size 504x504 with 1 Axes>"
      ]
     },
     "metadata": {},
     "output_type": "display_data"
    }
   ],
   "source": [
    "revenue = df.groupby('category_name_1')['grand_total'].sum()\n",
    "plt.figure(figsize=(7,7))\n",
    "revenue.plot(x='category_name_1', y = 'grand_total', kind='bar')\n",
    "plt.title('Pendapatan Berdasarkan Kategori Produk')\n",
    "plt.xticks(rotation=90)\n",
    "plt.xlabel('Produk Kategori')\n",
    "plt.ylabel('Total Pendapatan')\n",
    "plt.show()"
   ]
  },
  {
   "cell_type": "code",
   "execution_count": 77,
   "metadata": {},
   "outputs": [
    {
     "data": {
      "text/html": [
       "<div>\n",
       "<style scoped>\n",
       "    .dataframe tbody tr th:only-of-type {\n",
       "        vertical-align: middle;\n",
       "    }\n",
       "\n",
       "    .dataframe tbody tr th {\n",
       "        vertical-align: top;\n",
       "    }\n",
       "\n",
       "    .dataframe thead th {\n",
       "        text-align: right;\n",
       "    }\n",
       "</style>\n",
       "<table border=\"1\" class=\"dataframe\">\n",
       "  <thead>\n",
       "    <tr style=\"text-align: right;\">\n",
       "      <th></th>\n",
       "      <th>category_name_1</th>\n",
       "      <th>grand_total</th>\n",
       "    </tr>\n",
       "  </thead>\n",
       "  <tbody>\n",
       "    <tr>\n",
       "      <th>0</th>\n",
       "      <td>Mobiles &amp; Tablets</td>\n",
       "      <td>2440776734.022</td>\n",
       "    </tr>\n",
       "    <tr>\n",
       "      <th>1</th>\n",
       "      <td>Appliances</td>\n",
       "      <td>656849685.762</td>\n",
       "    </tr>\n",
       "    <tr>\n",
       "      <th>2</th>\n",
       "      <td>Entertainment</td>\n",
       "      <td>538991364.033</td>\n",
       "    </tr>\n",
       "  </tbody>\n",
       "</table>\n",
       "</div>"
      ],
      "text/plain": [
       "     category_name_1    grand_total\n",
       "0  Mobiles & Tablets 2440776734.022\n",
       "1  Appliances        656849685.762 \n",
       "2  Entertainment     538991364.033 "
      ]
     },
     "execution_count": 77,
     "metadata": {},
     "output_type": "execute_result"
    }
   ],
   "source": [
    "# Tiga kategori produk yang memberikan pendapatan terbesar.\n",
    "dfincome = df.groupby(['category_name_1']).sum().sort_values('grand_total', ascending=False)[['grand_total']].reset_index()\n",
    "dfincome.head(3)"
   ]
  },
  {
   "cell_type": "code",
   "execution_count": 78,
   "metadata": {},
   "outputs": [
    {
     "data": {
      "text/html": [
       "<div>\n",
       "<style scoped>\n",
       "    .dataframe tbody tr th:only-of-type {\n",
       "        vertical-align: middle;\n",
       "    }\n",
       "\n",
       "    .dataframe tbody tr th {\n",
       "        vertical-align: top;\n",
       "    }\n",
       "\n",
       "    .dataframe thead th {\n",
       "        text-align: right;\n",
       "    }\n",
       "</style>\n",
       "<table border=\"1\" class=\"dataframe\">\n",
       "  <thead>\n",
       "    <tr style=\"text-align: right;\">\n",
       "      <th></th>\n",
       "      <th>category_name_1</th>\n",
       "      <th>grand_total</th>\n",
       "    </tr>\n",
       "  </thead>\n",
       "  <tbody>\n",
       "    <tr>\n",
       "      <th>13</th>\n",
       "      <td>\\N</td>\n",
       "      <td>35820561.735</td>\n",
       "    </tr>\n",
       "    <tr>\n",
       "      <th>14</th>\n",
       "      <td>School &amp; Education</td>\n",
       "      <td>6237084.130</td>\n",
       "    </tr>\n",
       "    <tr>\n",
       "      <th>15</th>\n",
       "      <td>Books</td>\n",
       "      <td>2676194.695</td>\n",
       "    </tr>\n",
       "  </tbody>\n",
       "</table>\n",
       "</div>"
      ],
      "text/plain": [
       "       category_name_1  grand_total\n",
       "13  \\N                 35820561.735\n",
       "14  School & Education 6237084.130 \n",
       "15  Books              2676194.695 "
      ]
     },
     "execution_count": 78,
     "metadata": {},
     "output_type": "execute_result"
    }
   ],
   "source": [
    "dfincome.tail(3)"
   ]
  },
  {
   "cell_type": "markdown",
   "metadata": {},
   "source": [
    "### Analisis\n",
    "\n",
    "Berdasarkan tabel dan grafik kategori produk untuk Mobiles & tablet masih memberikan kontribusi yang besar terhadap pendapatan e-commerce selain jumlah penjualannya yang besar, akan tetapi ada perbedaan untuk peringkat kedua dan ketiga untuk pendapatan e-commerce. Appliance dan Entertainment memberikan pendapatan yang lebih baik dibandingkan men's fashion dan women's fashion. Kemungkinan hal ini terjadi karena harga satuan produk appliances dan entertainment jauh lebih tinggi dibandingkan fashion sehingga walaupun bukan salah satu penjualan terbanyak namun memberikan kontribusi pendapatan yang lebih baik."
   ]
  },
  {
   "cell_type": "markdown",
   "metadata": {},
   "source": [
    "### Rekomendasi\n",
    "\n",
    "Rekomendasi yang dapat diberikan untuk kategori produk Appliances dan Entertainment yaitu memberikan promosi dengan product bundling, karena produk Appliances dan Entertainment tidak murah sehingga memberikan diskon untuk produk kedua, ketiga dan seterusnya akan meningkatkan minat beli konsumen untuk produk-produk berikutnya. Selain itu produk bundling bisa dilakukan dengan aksesoris penunjang dari appliances dan juga entertainment."
   ]
  },
  {
   "cell_type": "markdown",
   "metadata": {},
   "source": [
    "## Pendapatan E-commerce setiap Tahun"
   ]
  },
  {
   "cell_type": "code",
   "execution_count": 79,
   "metadata": {},
   "outputs": [
    {
     "data": {
      "text/html": [
       "<div>\n",
       "<style scoped>\n",
       "    .dataframe tbody tr th:only-of-type {\n",
       "        vertical-align: middle;\n",
       "    }\n",
       "\n",
       "    .dataframe tbody tr th {\n",
       "        vertical-align: top;\n",
       "    }\n",
       "\n",
       "    .dataframe thead th {\n",
       "        text-align: right;\n",
       "    }\n",
       "</style>\n",
       "<table border=\"1\" class=\"dataframe\">\n",
       "  <thead>\n",
       "    <tr style=\"text-align: right;\">\n",
       "      <th></th>\n",
       "      <th>Year</th>\n",
       "      <th>grand_total</th>\n",
       "    </tr>\n",
       "  </thead>\n",
       "  <tbody>\n",
       "    <tr>\n",
       "      <th>0</th>\n",
       "      <td>2016</td>\n",
       "      <td>645585271.300</td>\n",
       "    </tr>\n",
       "    <tr>\n",
       "      <th>1</th>\n",
       "      <td>2017</td>\n",
       "      <td>2247206154.783</td>\n",
       "    </tr>\n",
       "    <tr>\n",
       "      <th>2</th>\n",
       "      <td>2018</td>\n",
       "      <td>2093380018.484</td>\n",
       "    </tr>\n",
       "  </tbody>\n",
       "</table>\n",
       "</div>"
      ],
      "text/plain": [
       "   Year    grand_total\n",
       "0  2016 645585271.300 \n",
       "1  2017 2247206154.783\n",
       "2  2018 2093380018.484"
      ]
     },
     "execution_count": 79,
     "metadata": {},
     "output_type": "execute_result"
    }
   ],
   "source": [
    "# Pendapatan E-commerce dari seluruh produk disetiap tahunnya\n",
    "\n",
    "dfyear = df.groupby(['Year']).sum().sort_values('Year', ascending=True)[['grand_total']].reset_index()\n",
    "dfyear\n"
   ]
  },
  {
   "cell_type": "code",
   "execution_count": 80,
   "metadata": {},
   "outputs": [
    {
     "data": {
      "image/png": "[encoded data removed]",
      "text/plain": [
       "<Figure size 504x504 with 1 Axes>"
      ]
     },
     "metadata": {},
     "output_type": "display_data"
    }
   ],
   "source": [
    "year = df.groupby('Year')['grand_total'].mean()\n",
    "plt.figure(figsize=(7,7))\n",
    "year.plot(x='Year', y = 'grand_total', kind='bar')\n",
    "plt.title('Rata-rata Pendapatan E-commerce Setiap Tahun')\n",
    "plt.xticks(rotation=0)\n",
    "plt.xlabel('Tahun')\n",
    "plt.ylabel('Pendapatan')\n",
    "plt.show()"
   ]
  },
  {
   "cell_type": "markdown",
   "metadata": {},
   "source": [
    "## Jumlah Pendapatan setiap bulannya dari Maret 2016 sampai dengan Agustus 2018"
   ]
  },
  {
   "cell_type": "code",
   "execution_count": 93,
   "metadata": {},
   "outputs": [
    {
     "data": {
      "image/png": "[encoded data removed]",
      "text/plain": [
       "<Figure size 432x432 with 1 Axes>"
      ]
     },
     "metadata": {},
     "output_type": "display_data"
    }
   ],
   "source": [
    "date = df.groupby(['Year','Month'])['grand_total'].sum()\n",
    "plt.figure(figsize=(6,6))\n",
    "date.plot(x=['Year','Month'], y = 'grand_total', kind='line')\n",
    "plt.title('Pendapatan Maret 2016 - Agustus 2018', fontsize=15)\n",
    "plt.xticks(rotation=90)\n",
    "plt.xlabel('Tahun dan Bulan')\n",
    "plt.ylabel('Pendapatan')\n",
    "plt.show()"
   ]
  },
  {
   "cell_type": "code",
   "execution_count": 82,
   "metadata": {},
   "outputs": [
    {
     "data": {
      "text/html": [
       "<div>\n",
       "<style scoped>\n",
       "    .dataframe tbody tr th:only-of-type {\n",
       "        vertical-align: middle;\n",
       "    }\n",
       "\n",
       "    .dataframe tbody tr th {\n",
       "        vertical-align: top;\n",
       "    }\n",
       "\n",
       "    .dataframe thead th {\n",
       "        text-align: right;\n",
       "    }\n",
       "</style>\n",
       "<table border=\"1\" class=\"dataframe\">\n",
       "  <thead>\n",
       "    <tr style=\"text-align: right;\">\n",
       "      <th></th>\n",
       "      <th>M-Y</th>\n",
       "      <th>grand_total</th>\n",
       "    </tr>\n",
       "  </thead>\n",
       "  <tbody>\n",
       "    <tr>\n",
       "      <th>0</th>\n",
       "      <td>11-2017</td>\n",
       "      <td>799528196.086</td>\n",
       "    </tr>\n",
       "    <tr>\n",
       "      <th>1</th>\n",
       "      <td>5-2018</td>\n",
       "      <td>459207446.522</td>\n",
       "    </tr>\n",
       "    <tr>\n",
       "      <th>2</th>\n",
       "      <td>3-2018</td>\n",
       "      <td>420077928.367</td>\n",
       "    </tr>\n",
       "    <tr>\n",
       "      <th>3</th>\n",
       "      <td>2-2018</td>\n",
       "      <td>319100176.640</td>\n",
       "    </tr>\n",
       "    <tr>\n",
       "      <th>4</th>\n",
       "      <td>6-2018</td>\n",
       "      <td>271988703.920</td>\n",
       "    </tr>\n",
       "    <tr>\n",
       "      <th>5</th>\n",
       "      <td>11-2016</td>\n",
       "      <td>268304534.740</td>\n",
       "    </tr>\n",
       "    <tr>\n",
       "      <th>6</th>\n",
       "      <td>7-2018</td>\n",
       "      <td>265389518.053</td>\n",
       "    </tr>\n",
       "    <tr>\n",
       "      <th>7</th>\n",
       "      <td>5-2017</td>\n",
       "      <td>248002927.280</td>\n",
       "    </tr>\n",
       "    <tr>\n",
       "      <th>8</th>\n",
       "      <td>6-2017</td>\n",
       "      <td>200561275.147</td>\n",
       "    </tr>\n",
       "    <tr>\n",
       "      <th>9</th>\n",
       "      <td>4-2017</td>\n",
       "      <td>160988358.970</td>\n",
       "    </tr>\n",
       "    <tr>\n",
       "      <th>10</th>\n",
       "      <td>8-2018</td>\n",
       "      <td>156886173.567</td>\n",
       "    </tr>\n",
       "    <tr>\n",
       "      <th>11</th>\n",
       "      <td>3-2017</td>\n",
       "      <td>140194142.170</td>\n",
       "    </tr>\n",
       "    <tr>\n",
       "      <th>12</th>\n",
       "      <td>8-2017</td>\n",
       "      <td>134204809.664</td>\n",
       "    </tr>\n",
       "    <tr>\n",
       "      <th>13</th>\n",
       "      <td>10-2017</td>\n",
       "      <td>119451962.469</td>\n",
       "    </tr>\n",
       "    <tr>\n",
       "      <th>14</th>\n",
       "      <td>1-2017</td>\n",
       "      <td>118948203.490</td>\n",
       "    </tr>\n",
       "    <tr>\n",
       "      <th>15</th>\n",
       "      <td>4-2018</td>\n",
       "      <td>112059472.010</td>\n",
       "    </tr>\n",
       "    <tr>\n",
       "      <th>16</th>\n",
       "      <td>10-2016</td>\n",
       "      <td>98066048.730</td>\n",
       "    </tr>\n",
       "    <tr>\n",
       "      <th>17</th>\n",
       "      <td>9-2016</td>\n",
       "      <td>90309332.340</td>\n",
       "    </tr>\n",
       "    <tr>\n",
       "      <th>18</th>\n",
       "      <td>12-2016</td>\n",
       "      <td>89377677.520</td>\n",
       "    </tr>\n",
       "    <tr>\n",
       "      <th>19</th>\n",
       "      <td>2-2017</td>\n",
       "      <td>89126200.500</td>\n",
       "    </tr>\n",
       "    <tr>\n",
       "      <th>20</th>\n",
       "      <td>1-2018</td>\n",
       "      <td>88670599.404</td>\n",
       "    </tr>\n",
       "    <tr>\n",
       "      <th>21</th>\n",
       "      <td>12-2017</td>\n",
       "      <td>83502817.170</td>\n",
       "    </tr>\n",
       "    <tr>\n",
       "      <th>22</th>\n",
       "      <td>7-2017</td>\n",
       "      <td>80741428.937</td>\n",
       "    </tr>\n",
       "    <tr>\n",
       "      <th>23</th>\n",
       "      <td>9-2017</td>\n",
       "      <td>71955832.900</td>\n",
       "    </tr>\n",
       "    <tr>\n",
       "      <th>24</th>\n",
       "      <td>8-2016</td>\n",
       "      <td>56235730.700</td>\n",
       "    </tr>\n",
       "    <tr>\n",
       "      <th>25</th>\n",
       "      <td>7-2016</td>\n",
       "      <td>43291947.270</td>\n",
       "    </tr>\n",
       "  </tbody>\n",
       "</table>\n",
       "</div>"
      ],
      "text/plain": [
       "        M-Y   grand_total\n",
       "0   11-2017 799528196.086\n",
       "1   5-2018  459207446.522\n",
       "2   3-2018  420077928.367\n",
       "3   2-2018  319100176.640\n",
       "4   6-2018  271988703.920\n",
       "5   11-2016 268304534.740\n",
       "6   7-2018  265389518.053\n",
       "7   5-2017  248002927.280\n",
       "8   6-2017  200561275.147\n",
       "9   4-2017  160988358.970\n",
       "10  8-2018  156886173.567\n",
       "11  3-2017  140194142.170\n",
       "12  8-2017  134204809.664\n",
       "13  10-2017 119451962.469\n",
       "14  1-2017  118948203.490\n",
       "15  4-2018  112059472.010\n",
       "16  10-2016 98066048.730 \n",
       "17  9-2016  90309332.340 \n",
       "18  12-2016 89377677.520 \n",
       "19  2-2017  89126200.500 \n",
       "20  1-2018  88670599.404 \n",
       "21  12-2017 83502817.170 \n",
       "22  7-2017  80741428.937 \n",
       "23  9-2017  71955832.900 \n",
       "24  8-2016  56235730.700 \n",
       "25  7-2016  43291947.270 "
      ]
     },
     "execution_count": 82,
     "metadata": {},
     "output_type": "execute_result"
    }
   ],
   "source": [
    "dfmonth = df.groupby(['M-Y']).sum().sort_values('grand_total', ascending=False)[['grand_total']].reset_index()\n",
    "dfmonth"
   ]
  },
  {
   "cell_type": "code",
   "execution_count": 83,
   "metadata": {},
   "outputs": [
    {
     "data": {
      "image/png": "[encoded data removed]",
      "text/plain": [
       "<Figure size 432x432 with 1 Axes>"
      ]
     },
     "metadata": {},
     "output_type": "display_data"
    }
   ],
   "source": [
    "month = df.groupby('Month')['grand_total'].mean()\n",
    "plt.figure(figsize=(6,6))\n",
    "month.plot(x='Month', y = 'grand_total', kind='bar')\n",
    "plt.title('Rata-rata Pendapatan Setiap Bulan', fontsize=15)\n",
    "plt.xticks(rotation=0)\n",
    "plt.xlabel('Bulan')\n",
    "plt.ylabel('Pendapatan')\n",
    "plt.show()\n"
   ]
  },
  {
   "cell_type": "markdown",
   "metadata": {},
   "source": [
    "### Analisis\n",
    "\n",
    "Berdasarkan hasil grafik dan tabel tahunan dan bulanan, dapat dikatakan secara grafik pendapatan(rata-rata) tahunan selalu meningkat untuk tahun 2016 sampai dengan 2018. Secara grafik pendapatan bulanan(total) selalu fluktuatif dan ada beberapa spike di bulan bulan tertentu seperti pada bulan November 2017, sedangkan untuk rata-rata bulanan bulan Mei, Juni, dan Juli merupakan tiga bulan dengan rata-rata tertinggi. Hal tersebut terjadi karena pada bulan tersebut merupakan bulan Ramadhan, dimana rata-rata penduduk Pakistan beragama Muslim sehingga peningkatan tersebut dianggap wajar."
   ]
  },
  {
   "cell_type": "markdown",
   "metadata": {},
   "source": [
    "### Rekomendasi\n",
    "\n",
    "Rekomendasi yang bisa dilakukan adalah memberikan promosi dan program marketing terkait produk yang berkaitan dengan Ramadhan ataupun produk-produk yang mampu membantu konsumen dalam menjalankan ibadah puasa seperti makanan, pakaian untuk beribadah ataupun untuk hari raya, alat-alat ibadah dll. Selain itu produk bisa dilakukan promosi untuk produk entertainment, karena kebanyakan masyarakat Pakistan akan mengurangi jam kerja dan lebih menghabiskan waktu bersama keluarga ataupun teman sehingga produk entertaiment akan cenderung cepat laku jika diberikan promo yang menarik."
   ]
  },
  {
   "cell_type": "markdown",
   "metadata": {},
   "source": [
    "## Jumlah status order dari tahun 2016 sampai 2018"
   ]
  },
  {
   "cell_type": "code",
   "execution_count": 84,
   "metadata": {},
   "outputs": [
    {
     "data": {
      "text/plain": [
       "<AxesSubplot:xlabel='status', ylabel='count'>"
      ]
     },
     "execution_count": 84,
     "metadata": {},
     "output_type": "execute_result"
    },
    {
     "data": {
      "image/png": "[encoded data removed]",
      "text/plain": [
       "<Figure size 2160x720 with 1 Axes>"
      ]
     },
     "metadata": {},
     "output_type": "display_data"
    }
   ],
   "source": [
    "# Jumlah status order dari tahun 2016 sampai 2018\n",
    "plt.figure(figsize=(30,10))\n",
    "\n",
    "sns.set_style(\"whitegrid\")\n",
    "sns.countplot(x='status', data = df, palette='viridis')"
   ]
  },
  {
   "cell_type": "code",
   "execution_count": 85,
   "metadata": {},
   "outputs": [
    {
     "data": {
      "text/html": [
       "<div>\n",
       "<style scoped>\n",
       "    .dataframe tbody tr th:only-of-type {\n",
       "        vertical-align: middle;\n",
       "    }\n",
       "\n",
       "    .dataframe tbody tr th {\n",
       "        vertical-align: top;\n",
       "    }\n",
       "\n",
       "    .dataframe thead th {\n",
       "        text-align: right;\n",
       "    }\n",
       "</style>\n",
       "<table border=\"1\" class=\"dataframe\">\n",
       "  <thead>\n",
       "    <tr style=\"text-align: right;\">\n",
       "      <th></th>\n",
       "      <th>Total</th>\n",
       "    </tr>\n",
       "  </thead>\n",
       "  <tbody>\n",
       "    <tr>\n",
       "      <th>Mobiles &amp; Tablets</th>\n",
       "      <td>53715</td>\n",
       "    </tr>\n",
       "    <tr>\n",
       "      <th>Men's Fashion</th>\n",
       "      <td>22024</td>\n",
       "    </tr>\n",
       "    <tr>\n",
       "      <th>Appliances</th>\n",
       "      <td>21628</td>\n",
       "    </tr>\n",
       "    <tr>\n",
       "      <th>Others</th>\n",
       "      <td>18472</td>\n",
       "    </tr>\n",
       "    <tr>\n",
       "      <th>Women's Fashion</th>\n",
       "      <td>15961</td>\n",
       "    </tr>\n",
       "    <tr>\n",
       "      <th>Superstore</th>\n",
       "      <td>13926</td>\n",
       "    </tr>\n",
       "    <tr>\n",
       "      <th>Entertainment</th>\n",
       "      <td>12578</td>\n",
       "    </tr>\n",
       "    <tr>\n",
       "      <th>Beauty &amp; Grooming</th>\n",
       "      <td>9686</td>\n",
       "    </tr>\n",
       "    <tr>\n",
       "      <th>Soghaat</th>\n",
       "      <td>7593</td>\n",
       "    </tr>\n",
       "    <tr>\n",
       "      <th>Home &amp; Living</th>\n",
       "      <td>7199</td>\n",
       "    </tr>\n",
       "    <tr>\n",
       "      <th>Computing</th>\n",
       "      <td>6811</td>\n",
       "    </tr>\n",
       "    <tr>\n",
       "      <th>Kids &amp; Baby</th>\n",
       "      <td>4081</td>\n",
       "    </tr>\n",
       "    <tr>\n",
       "      <th>Health &amp; Sports</th>\n",
       "      <td>3382</td>\n",
       "    </tr>\n",
       "    <tr>\n",
       "      <th>\\N</th>\n",
       "      <td>3157</td>\n",
       "    </tr>\n",
       "    <tr>\n",
       "      <th>School &amp; Education</th>\n",
       "      <td>749</td>\n",
       "    </tr>\n",
       "    <tr>\n",
       "      <th>Books</th>\n",
       "      <td>273</td>\n",
       "    </tr>\n",
       "  </tbody>\n",
       "</table>\n",
       "</div>"
      ],
      "text/plain": [
       "                    Total\n",
       "Mobiles & Tablets   53715\n",
       "Men's Fashion       22024\n",
       "Appliances          21628\n",
       "Others              18472\n",
       "Women's Fashion     15961\n",
       "Superstore          13926\n",
       "Entertainment       12578\n",
       "Beauty & Grooming   9686 \n",
       "Soghaat             7593 \n",
       "Home & Living       7199 \n",
       "Computing           6811 \n",
       "Kids & Baby         4081 \n",
       "Health & Sports     3382 \n",
       "\\N                  3157 \n",
       "School & Education  749  \n",
       "Books               273  "
      ]
     },
     "execution_count": 85,
     "metadata": {},
     "output_type": "execute_result"
    }
   ],
   "source": [
    "cancelcat = df.loc[df['status'] == 'canceled']['category_name_1'].value_counts().to_frame('Total')\n",
    "cancelcat"
   ]
  },
  {
   "cell_type": "code",
   "execution_count": 86,
   "metadata": {},
   "outputs": [
    {
     "data": {
      "text/html": [
       "<div>\n",
       "<style scoped>\n",
       "    .dataframe tbody tr th:only-of-type {\n",
       "        vertical-align: middle;\n",
       "    }\n",
       "\n",
       "    .dataframe tbody tr th {\n",
       "        vertical-align: top;\n",
       "    }\n",
       "\n",
       "    .dataframe thead th {\n",
       "        text-align: right;\n",
       "    }\n",
       "</style>\n",
       "<table border=\"1\" class=\"dataframe\">\n",
       "  <thead>\n",
       "    <tr style=\"text-align: right;\">\n",
       "      <th></th>\n",
       "      <th>Total</th>\n",
       "    </tr>\n",
       "  </thead>\n",
       "  <tbody>\n",
       "    <tr>\n",
       "      <th>Payaxis</th>\n",
       "      <td>61267</td>\n",
       "    </tr>\n",
       "    <tr>\n",
       "      <th>Easypay</th>\n",
       "      <td>52036</td>\n",
       "    </tr>\n",
       "    <tr>\n",
       "      <th>cod</th>\n",
       "      <td>21744</td>\n",
       "    </tr>\n",
       "    <tr>\n",
       "      <th>jazzwallet</th>\n",
       "      <td>16933</td>\n",
       "    </tr>\n",
       "    <tr>\n",
       "      <th>bankalfalah</th>\n",
       "      <td>16184</td>\n",
       "    </tr>\n",
       "    <tr>\n",
       "      <th>easypay_voucher</th>\n",
       "      <td>12189</td>\n",
       "    </tr>\n",
       "    <tr>\n",
       "      <th>Easypay_MA</th>\n",
       "      <td>9209</td>\n",
       "    </tr>\n",
       "    <tr>\n",
       "      <th>jazzvoucher</th>\n",
       "      <td>8472</td>\n",
       "    </tr>\n",
       "    <tr>\n",
       "      <th>apg</th>\n",
       "      <td>1361</td>\n",
       "    </tr>\n",
       "    <tr>\n",
       "      <th>ublcreditcard</th>\n",
       "      <td>660</td>\n",
       "    </tr>\n",
       "    <tr>\n",
       "      <th>mygateway</th>\n",
       "      <td>652</td>\n",
       "    </tr>\n",
       "    <tr>\n",
       "      <th>internetbanking</th>\n",
       "      <td>286</td>\n",
       "    </tr>\n",
       "    <tr>\n",
       "      <th>mcblite</th>\n",
       "      <td>179</td>\n",
       "    </tr>\n",
       "    <tr>\n",
       "      <th>customercredit</th>\n",
       "      <td>47</td>\n",
       "    </tr>\n",
       "    <tr>\n",
       "      <th>productcredit</th>\n",
       "      <td>10</td>\n",
       "    </tr>\n",
       "    <tr>\n",
       "      <th>cashatdoorstep</th>\n",
       "      <td>5</td>\n",
       "    </tr>\n",
       "    <tr>\n",
       "      <th>financesettlement</th>\n",
       "      <td>1</td>\n",
       "    </tr>\n",
       "  </tbody>\n",
       "</table>\n",
       "</div>"
      ],
      "text/plain": [
       "                   Total\n",
       "Payaxis            61267\n",
       "Easypay            52036\n",
       "cod                21744\n",
       "jazzwallet         16933\n",
       "bankalfalah        16184\n",
       "easypay_voucher    12189\n",
       "Easypay_MA         9209 \n",
       "jazzvoucher        8472 \n",
       "apg                1361 \n",
       "ublcreditcard      660  \n",
       "mygateway          652  \n",
       "internetbanking    286  \n",
       "mcblite            179  \n",
       "customercredit     47   \n",
       "productcredit      10   \n",
       "cashatdoorstep     5    \n",
       "financesettlement  1    "
      ]
     },
     "execution_count": 86,
     "metadata": {},
     "output_type": "execute_result"
    }
   ],
   "source": [
    "cancelPayMet = df.loc[df['status'] == 'canceled']['payment_method'].value_counts().to_frame('Total')\n",
    "cancelPayMet"
   ]
  },
  {
   "cell_type": "markdown",
   "metadata": {},
   "source": [
    "### Analisis\n",
    "\n",
    "Berdasarkan grafik dan tabel diperingkat pertama untuk status order adalah complete atau selesai, akan tetapi pada peringkat kedua dengan jumlah yang tidak jauh berbeda yaitu canceled atau membatalkan. Dari peringkat kedua ini dapat dikatakan kemungkinan ada sesuatu yang tidak baik dari produk yang dijual oleh e-commerce ataupun perilaku belanja online orang Pakistan. Menurut artikel yang ditulis oleh Dawn.com ada beberapa alasan mengapa orang Pakistan tidak membeli secara online yaitu daftar produk yang tidak akurat, tidak cukup detail menyampaikan informasi terkait produk, stock manajemen buruk yang mengakibatkan delay ataupun mengirimkan produk yang salah, produk rusak atau replika, overprice, fake review, after sales service yang buruk. Beberapa alasan itulah yang membuat konsumen di Pakistan membatalkan ordernya. Selain itu jika dilihat dari metode pembayaran Payaxis dan Easypay berkontribusi terhadap 113303 status canceled, hal ini harus teliti lebih jauh apakah ada indikasi metode pembayaran ini digunakan untuk melakuan penipuan.<br>\n",
    "<br>\n",
    "source: https://www.dawn.com/news/1455041"
   ]
  },
  {
   "cell_type": "markdown",
   "metadata": {},
   "source": [
    "### Rekomendasi\n",
    "\n",
    "Rekomendasi yang dapat dilakukan adalah e-commerce bisa memperbaiki sistem listing barang untuk para Seller yang ingin menjual produknya. Seller wajib memberikan informasi selengkap-lengkapnya untuk produk yang mereka jual. Jika Seller tidak mengisi informasi dengan lengkap maka sistem akan menolak produk yang akan dilistin kedalam e-commerce. E-commerce juga harus bisa menghapus Seller yang berniat melakukan scam dengan memberikan tanda warning pada produk yang terlalu murah ataupun terlalu mahal sehingga timbul rasa percaya konsumen terhadap e-commerce yang digunakan. "
   ]
  },
  {
   "cell_type": "markdown",
   "metadata": {},
   "source": [
    "## Penggunaan Sales Commision Code oleh Pelanggan"
   ]
  },
  {
   "cell_type": "code",
   "execution_count": 87,
   "metadata": {},
   "outputs": [],
   "source": [
    "# df[\"gender\"] = np.where(df[\"gender\"] == \"female\", 0, 1)\n",
    "df['Use_Code'] = np.where(df['sales_commission_code'] == '\\\\N', 'No','Yes')"
   ]
  },
  {
   "cell_type": "code",
   "execution_count": 88,
   "metadata": {},
   "outputs": [
    {
     "name": "stdout",
     "output_type": "stream",
     "text": [
      "<class 'pandas.core.frame.DataFrame'>\n",
      "Int64Index: 584478 entries, 0 to 584523\n",
      "Data columns (total 17 columns):\n",
      " #   Column                 Non-Null Count   Dtype  \n",
      "---  ------                 --------------   -----  \n",
      " 0   item_id                584478 non-null  int32  \n",
      " 1   status                 584478 non-null  object \n",
      " 2   created_at             584478 non-null  object \n",
      " 3   sku                    584478 non-null  object \n",
      " 4   price                  584478 non-null  float64\n",
      " 5   qty_ordered            584478 non-null  int32  \n",
      " 6   grand_total            584478 non-null  float64\n",
      " 7   increment_id           584478 non-null  object \n",
      " 8   category_name_1        584478 non-null  object \n",
      " 9   sales_commission_code  584478 non-null  object \n",
      " 10  discount_amount        584478 non-null  float64\n",
      " 11  payment_method         584478 non-null  object \n",
      " 12  Year                   584478 non-null  int32  \n",
      " 13  Month                  584478 non-null  int32  \n",
      " 14  M-Y                    584478 non-null  object \n",
      " 15  Customer ID            584478 non-null  object \n",
      " 16  Use_Code               584478 non-null  object \n",
      "dtypes: float64(3), int32(4), object(10)\n",
      "memory usage: 71.3+ MB\n"
     ]
    }
   ],
   "source": [
    "df.info()"
   ]
  },
  {
   "cell_type": "code",
   "execution_count": 89,
   "metadata": {},
   "outputs": [
    {
     "data": {
      "text/plain": [
       "No     476132\n",
       "Yes    108346\n",
       "Name: Use_Code, dtype: int64"
      ]
     },
     "execution_count": 89,
     "metadata": {},
     "output_type": "execute_result"
    }
   ],
   "source": [
    "df['Use_Code'].value_counts()"
   ]
  },
  {
   "cell_type": "code",
   "execution_count": 90,
   "metadata": {},
   "outputs": [
    {
     "data": {
      "text/plain": [
       "<AxesSubplot:xlabel='category_name_1', ylabel='count'>"
      ]
     },
     "execution_count": 90,
     "metadata": {},
     "output_type": "execute_result"
    },
    {
     "data": {
      "image/png": "[encoded data removed]",
      "text/plain": [
       "<Figure size 2160x720 with 1 Axes>"
      ]
     },
     "metadata": {},
     "output_type": "display_data"
    }
   ],
   "source": [
    "plt.figure(figsize=(30,10))\n",
    "\n",
    "sns.set_style('whitegrid')\n",
    "sns.countplot(x='category_name_1', data = df, hue='Use_Code', palette='YlGnBu')"
   ]
  },
  {
   "cell_type": "markdown",
   "metadata": {},
   "source": [
    "### Analisis\n",
    "\n",
    "Pada analisis ini dilakukan perubahan data untuk memudahkan analisis antara konsumen yang menggunakan commission code dan tidak, dimana sebelumnya data sales_commision_code memiliki unique code yang banyak sekarang dibuatkan kolom baru (use_code) yang memiliki data categori Yes atau No. Dari hasil analisis ditemukan bahwa 476132 tidak menggunakan commission code dan 108346 menggunakan commission code. kategori produk tertinggi yang menggunakan comission code adalah mobiles & tablets lalu diikuti oleh men's fashion."
   ]
  },
  {
   "cell_type": "markdown",
   "metadata": {},
   "source": [
    "### Rekomendasi\n",
    "\n",
    "Rekomendasi yang dapat diberikan adalah e-commerce harus bisa mencari influencer yang mampu menjadi affiliate marketing dari e-commerce. Influencer dapat melakukan review produk dan mengarahkan link pembelian yang telah terafiliasi dengan commision code mereka. Affiliate marketing merupakan channel marketing yang cukup efektif saat ini karena banyaknya pengguna media sosial di Pakistan yang telah mencapai 46 juta jiwa di tahun 2021. Hal yang diperlukan oleh e-commerce terhadap para affiliate-nya adalah tetap memberikan informasi yang jujur dan original terkait produk yang mereka review. Menurut influencermarketinghub.com affiliate marketing menyumbang 16% dari total penjualan e-commerce. Selain menjadi penjualan affiliate marketing juga meningkatkan keterikatan brand product terhadap konsumen.<br>\n",
    "<br>\n",
    "source: https://influencermarketinghub.com/affiliate-marketing-strategies/<br>\n",
    "https://datareportal.com/reports/digital-2021-pakistan#:~:text=Social%20media%20statistics%20for%20Pakistan,total%20population%20in%20January%202021."
   ]
  },
  {
   "cell_type": "markdown",
   "metadata": {},
   "source": [
    "# Statistic"
   ]
  },
  {
   "cell_type": "code",
   "execution_count": 91,
   "metadata": {},
   "outputs": [
    {
     "name": "stdout",
     "output_type": "stream",
     "text": [
      "Tolak H0 karena (0.0 < 5%)\n",
      "Data Tidak Berdistribusi Normal\n"
     ]
    }
   ],
   "source": [
    "# cek distribusi kolom data grand_total\n",
    "\n",
    "from scipy.stats import normaltest\n",
    "\n",
    "norm, pval = normaltest(df[\"grand_total\"])\n",
    "\n",
    "if pval < 0.05 :\n",
    "    print (f'Tolak H0 karena ({pval} < 5%)')\n",
    "    print ('Data Tidak Berdistribusi Normal')\n",
    "else :\n",
    "    print (f'Gagal untuk menolak H0 ({pval} > 5%)')\n",
    "    print ('Data Berdistribusi Normal')"
   ]
  },
  {
   "cell_type": "code",
   "execution_count": 92,
   "metadata": {},
   "outputs": [
    {
     "name": "stdout",
     "output_type": "stream",
     "text": [
      "Tolak H0 karena P-value (0.0 < 5%)\n",
      "Ditemukan perbedaan dalam nilai median untuk grand total untuk masing-masing kategori produk\n"
     ]
    }
   ],
   "source": [
    "# Tes Perbandingan untuk grand total untuk setiap category product menggunakan kruskal-wallis method (lebih dari 2 variable independen non parametrik)\n",
    "\n",
    "from scipy.stats import kruskal\n",
    "\n",
    "krus, pvalkrus = kruskal(\n",
    "    df[df['category_name_1'] == 'Mobiles & Tablets']['grand_total'],\n",
    "    df[df['category_name_1'] == \"Men's Fashion\"]['grand_total'],\n",
    "    df[df['category_name_1'] == 'Appliances']['grand_total'],\n",
    "    df[df['category_name_1'] == 'Others']['grand_total'],\n",
    "    df[df['category_name_1'] == \"Women's Fashion\"]['grand_total'],\n",
    "    df[df['category_name_1'] == 'Superstore']['grand_total'],\n",
    "    df[df['category_name_1'] == 'Entertainment']['grand_total'],\n",
    "    df[df['category_name_1'] == 'Beauty & Grooming']['grand_total'],\n",
    "    df[df['category_name_1'] == 'Soghaat']['grand_total'],\n",
    "    df[df['category_name_1'] == 'Home & Living']['grand_total'],\n",
    "    df[df['category_name_1'] == 'Computing']['grand_total'],\n",
    "    df[df['category_name_1'] == 'Kids & Baby']['grand_total'],\n",
    "    df[df['category_name_1'] == 'Health & Sports']['grand_total'],\n",
    "    df[df['category_name_1'] == '\\\\N']['grand_total'],\n",
    "    df[df['category_name_1'] == 'School & Education']['grand_total'],\n",
    "    df[df['category_name_1'] == 'Books']['grand_total']\n",
    ")\n",
    "\n",
    "if pvalkrus < 0.05 :\n",
    "    print (f'Tolak H0 karena P-value ({pval} < 5%)')\n",
    "    print ('Ditemukan perbedaan dalam nilai median untuk grand total untuk masing-masing kategori produk')\n",
    "else :\n",
    "    print (f'Gagal menolak H0 karena P-value ({pval} > 5%)')\n",
    "    print ('Tidak ditemukan perbedaan dalam nilai median untuk grand total untuk masing-masing kategori produk')"
   ]
  }
 ],
 "metadata": {
  "kernelspec": {
   "display_name": "Python 3.10.2 64-bit",
   "language": "python",
   "name": "python3"
  },
  "language_info": {
   "codemirror_mode": {
    "name": "ipython",
    "version": 3
   },
   "file_extension": ".py",
   "mimetype": "text/x-python",
   "name": "python",
   "nbconvert_exporter": "python",
   "pygments_lexer": "ipython3",
   "version": "3.10.2"
  },
  "orig_nbformat": 4,
  "vscode": {
   "interpreter": {
    "hash": "663d6e34dd42cae58ced5611ac9f7e8de47b2ae3706eb6ee86b63102c7967a0f"
   }
  }
 },
 "nbformat": 4,
 "nbformat_minor": 2
}
